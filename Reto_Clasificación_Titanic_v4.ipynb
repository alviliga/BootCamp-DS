{
  "nbformat": 4,
  "nbformat_minor": 0,
  "metadata": {
    "colab": {
      "provenance": []
    },
    "kernelspec": {
      "name": "python3",
      "display_name": "Python 3"
    },
    "language_info": {
      "name": "python"
    }
  },
  "cells": [
    {
      "cell_type": "markdown",
      "source": [
        "# TITANIC - Proyecto Ciencia de Datos"
      ],
      "metadata": {
        "id": "ywaaeFy78qlN"
      }
    },
    {
      "cell_type": "markdown",
      "source": [
        "## Objetivo del Proyecto y Comprensión del Dataset"
      ],
      "metadata": {
        "id": "RHGhph2xGAIc"
      }
    },
    {
      "cell_type": "markdown",
      "source": [
        "El objetivo general de este proyecto es encontrar el modelo con mejor performance, utilizando para ello la metodología CRISP-DM, donde abordamos cada etapa del ciclo de vida de un proyecto de Ciencia de Datos.\n",
        "\n",
        "\n",
        "\n",
        "---\n",
        "\n",
        "\n",
        "En el dataset de Titanic las variables disponibles son:\n",
        "\n",
        "*   **PassengerId:** identificador único del pasajero.\n",
        "*   **Survived:** si el pasajero sobrevivió al naufragio, codificada como 0 (no) y 1 (si). **Esta es la variable target que interesa predecir.**\n",
        "*   **Pclass:** clase a la que pertenecía el pasajero: 1, 2 o 3.\n",
        "*   **Name:** nombre del pasajero.\n",
        "*   **Sex:** sexo del pasajero.\n",
        "*   **Age:** edad del pasajero.\n",
        "*   **SibSp:** número de hermanos, hermanas, hermanastros o hermanastras en el barco.\n",
        "*   **Parch:** número de padres e hijos en el barco.\n",
        "*   **Ticket:** identificador del billete.\n",
        "*   **Cabin:** identificador del camarote asignado al pasajero.\n",
        "*   **Embarked:** puerto en el que embarcó el pasajero, (C: Cherbourg, Q: Queenstown, S: Southampton.)\n",
        "*   **Fare:** precio pagado por el billete."
      ],
      "metadata": {
        "id": "cAnj27LH7fQf"
      }
    },
    {
      "cell_type": "markdown",
      "source": [
        "Carga del Dataset y primera exploración"
      ],
      "metadata": {
        "id": "jIv9-X70VxiD"
      }
    },
    {
      "cell_type": "code",
      "source": [
        "# Importamos las librerias a utilizar\n",
        "import matplotlib.pyplot as plt\n",
        "import numpy as np\n",
        "import pandas as pd\n",
        "import seaborn as sns\n",
        "import warnings\n",
        "warnings.filterwarnings('ignore')\n",
        "# Carga del dataset\n",
        "titanic = pd.read_csv('https://raw.githubusercontent.com/datasciencedojo/datasets/master/titanic.csv')"
      ],
      "metadata": {
        "id": "_PNYJFgOcUak"
      },
      "execution_count": null,
      "outputs": []
    },
    {
      "cell_type": "code",
      "source": [
        "# Obtenemos las dimensiones del dataset\n",
        "titanic.shape"
      ],
      "metadata": {
        "colab": {
          "base_uri": "https://localhost:8080/"
        },
        "id": "v6sDxbIgh4bd",
        "outputId": "f142da9c-5e5e-4db9-f775-868094c8135f"
      },
      "execution_count": null,
      "outputs": [
        {
          "output_type": "execute_result",
          "data": {
            "text/plain": [
              "(891, 12)"
            ]
          },
          "metadata": {},
          "execution_count": 2
        }
      ]
    },
    {
      "cell_type": "code",
      "source": [
        "# Contamos los posibles registros duplicados excluyendo la variable ID\n",
        "titanic.drop(\"PassengerId\", axis = 1).duplicated().sum()"
      ],
      "metadata": {
        "colab": {
          "base_uri": "https://localhost:8080/"
        },
        "id": "jvlg7AxeB_9B",
        "outputId": "e63887e2-386d-4fa1-ba0a-48e0e78ba597"
      },
      "execution_count": null,
      "outputs": [
        {
          "output_type": "execute_result",
          "data": {
            "text/plain": [
              "0"
            ]
          },
          "metadata": {},
          "execution_count": 3
        }
      ]
    },
    {
      "cell_type": "code",
      "source": [
        "# Exploramos la estructura, tipos de datos de cada variable y la cantidad de valores no nulos por variable\n",
        "titanic.info()"
      ],
      "metadata": {
        "colab": {
          "base_uri": "https://localhost:8080/"
        },
        "id": "Czpjf81rdOam",
        "outputId": "e3abaa1c-34ab-4fd0-de5d-80639d3d51e1"
      },
      "execution_count": null,
      "outputs": [
        {
          "output_type": "stream",
          "name": "stdout",
          "text": [
            "<class 'pandas.core.frame.DataFrame'>\n",
            "RangeIndex: 891 entries, 0 to 890\n",
            "Data columns (total 12 columns):\n",
            " #   Column       Non-Null Count  Dtype  \n",
            "---  ------       --------------  -----  \n",
            " 0   PassengerId  891 non-null    int64  \n",
            " 1   Survived     891 non-null    int64  \n",
            " 2   Pclass       891 non-null    int64  \n",
            " 3   Name         891 non-null    object \n",
            " 4   Sex          891 non-null    object \n",
            " 5   Age          714 non-null    float64\n",
            " 6   SibSp        891 non-null    int64  \n",
            " 7   Parch        891 non-null    int64  \n",
            " 8   Ticket       891 non-null    object \n",
            " 9   Fare         891 non-null    float64\n",
            " 10  Cabin        204 non-null    object \n",
            " 11  Embarked     889 non-null    object \n",
            "dtypes: float64(2), int64(5), object(5)\n",
            "memory usage: 83.7+ KB\n"
          ]
        }
      ]
    },
    {
      "cell_type": "code",
      "source": [
        "# Contamos los valores nulos del dataset por cada variable\n",
        "conteo_valores_nulos =titanic.isna().sum()\n",
        "print(conteo_valores_nulos)"
      ],
      "metadata": {
        "colab": {
          "base_uri": "https://localhost:8080/"
        },
        "id": "TVEEEY8SFV5k",
        "outputId": "651d8a24-e250-47ce-81aa-e0debd341666"
      },
      "execution_count": null,
      "outputs": [
        {
          "output_type": "stream",
          "name": "stdout",
          "text": [
            "PassengerId      0\n",
            "Survived         0\n",
            "Pclass           0\n",
            "Name             0\n",
            "Sex              0\n",
            "Age            177\n",
            "SibSp            0\n",
            "Parch            0\n",
            "Ticket           0\n",
            "Fare             0\n",
            "Cabin          687\n",
            "Embarked         2\n",
            "dtype: int64\n"
          ]
        }
      ]
    },
    {
      "cell_type": "markdown",
      "source": [
        "Conclusiones preliminares:\n",
        "\n",
        "Existen un total de 890 filas (pasajeros) y 12 columnas, entre las que encontramos la variable objetivo o clase a predecir, **Survived**.\n",
        "\n",
        "No hay registros duplicados.\n",
        "\n",
        "La variable Cabin solo tiene 204 instancias con valores, lo que representa solo el 23% del total de los registros. La variable Age también cuenta con valores nulos, pero en un número mucho más reducido que el anterior al igual que la variable Embarked. El resto de variables cuentan siempre con valor.\n",
        "\n",
        "El dataset tiene  7 variables numéricas y 5 variables categóricas."
      ],
      "metadata": {
        "id": "7_PAOfmz9b4-"
      }
    },
    {
      "cell_type": "markdown",
      "source": [
        "## Modificaciones al set de datos y Feature Engeenering"
      ],
      "metadata": {
        "id": "Moh8eAv1I-ep"
      }
    },
    {
      "cell_type": "code",
      "source": [
        "# Hacemos una copia del dataset origial\n",
        "df1 = titanic.copy()"
      ],
      "metadata": {
        "id": "ea6g6xYnEdLl"
      },
      "execution_count": null,
      "outputs": []
    },
    {
      "cell_type": "markdown",
      "source": [
        "Imputamos los datos faltantes de las caractaristicas previamente identificadas"
      ],
      "metadata": {
        "id": "j-1RKIoaD1xi"
      }
    },
    {
      "cell_type": "code",
      "source": [
        "# Rellenamos los datos faltantes de la variable \"Age\" con algoritmo de imputacion KNN\n",
        "from sklearn.impute import KNNImputer # Importamos libreria\n",
        "imputer = KNNImputer(n_neighbors=5) # Instanciamos el imputador\n",
        "\n",
        "df1['Age'] = imputer.fit_transform(df1[['Age']]).round() # Hacemos la imputación"
      ],
      "metadata": {
        "id": "l4FMz0XJUMgX"
      },
      "execution_count": null,
      "outputs": []
    },
    {
      "cell_type": "code",
      "source": [
        "# Rellenamos los datos faltantes de la variable \"Embarked\" con el valor mas frecuente\n",
        "df1['Embarked'].fillna('S', inplace=True)"
      ],
      "metadata": {
        "id": "_8-WXJxfQJiZ"
      },
      "execution_count": null,
      "outputs": []
    },
    {
      "cell_type": "markdown",
      "source": [
        "Hacemos una eliminación controlada de aquellas variables que consideramos que el algoritmo no va a utilizar en el proceso predictivo, estas son PassengerId, Name, Ticket y Cabin.\n"
      ],
      "metadata": {
        "id": "C18ZP_KmDN-E"
      }
    },
    {
      "cell_type": "code",
      "source": [
        "df1 = df1.drop(['PassengerId','Name','Ticket','Cabin'],axis=1)"
      ],
      "metadata": {
        "id": "kLxMse_aEglg"
      },
      "execution_count": null,
      "outputs": []
    },
    {
      "cell_type": "markdown",
      "source": [
        "El dataset contiene dos variables que representan los acompañantes de un pasajero.\n",
        "Por un lado, SibSp contabiliza el número de hermanos que acompañaban al pasajero (incluyendo a su cónyuge, si aplica),y por otro, Parch contabiliza el número de acompañantes que eran padres e hijos.\n",
        "Uniendo estas dos variables y sumándolas podemos obtener una tercera, que nos informa sobre los acompañantes de un pasajero determinado, sin distinción entre los vínculos que pudieran tener."
      ],
      "metadata": {
        "id": "VLXnHqZ1EyZp"
      }
    },
    {
      "cell_type": "code",
      "source": [
        "# Agrupamos las viariables Parch y SibSp en un una nueva denominada \"Relatives\"\n",
        "relatives = df1['Parch'] + df1['SibSp']\n",
        "df1['Relatives'] = relatives\n",
        "df1 = df1.drop(['Parch','SibSp'],axis=1)"
      ],
      "metadata": {
        "id": "bkyVHKeToOCn"
      },
      "execution_count": null,
      "outputs": []
    },
    {
      "cell_type": "code",
      "source": [
        "# Visualizamos la nueva estructura del set de datos y validamos que no contenga datos nulos\n",
        "df1.info()"
      ],
      "metadata": {
        "colab": {
          "base_uri": "https://localhost:8080/"
        },
        "id": "yTvzQHZJv1Xh",
        "outputId": "d9c18575-e2a4-4ef7-9451-c7d96a9e16a3"
      },
      "execution_count": null,
      "outputs": [
        {
          "output_type": "stream",
          "name": "stdout",
          "text": [
            "<class 'pandas.core.frame.DataFrame'>\n",
            "RangeIndex: 891 entries, 0 to 890\n",
            "Data columns (total 7 columns):\n",
            " #   Column     Non-Null Count  Dtype  \n",
            "---  ------     --------------  -----  \n",
            " 0   Survived   891 non-null    int64  \n",
            " 1   Pclass     891 non-null    int64  \n",
            " 2   Sex        891 non-null    object \n",
            " 3   Age        891 non-null    float64\n",
            " 4   Fare       891 non-null    float64\n",
            " 5   Embarked   891 non-null    object \n",
            " 6   Relatives  891 non-null    int64  \n",
            "dtypes: float64(2), int64(3), object(2)\n",
            "memory usage: 48.9+ KB\n"
          ]
        }
      ]
    },
    {
      "cell_type": "markdown",
      "source": [
        "Manejo de Outliers"
      ],
      "metadata": {
        "id": "MD8yFTTcGfQT"
      }
    },
    {
      "cell_type": "code",
      "source": [
        "# Hacemos analisis descriptivos de las variables\n",
        "df1.describe()"
      ],
      "metadata": {
        "colab": {
          "base_uri": "https://localhost:8080/",
          "height": 300
        },
        "id": "H7Su_SQVGhoz",
        "outputId": "3bb27a82-2676-44be-85e2-161bbc7f5977"
      },
      "execution_count": null,
      "outputs": [
        {
          "output_type": "execute_result",
          "data": {
            "text/plain": [
              "         Survived      Pclass         Age        Fare   Relatives\n",
              "count  891.000000  891.000000  891.000000  891.000000  891.000000\n",
              "mean     0.383838    2.308642   29.754209   32.204208    0.904602\n",
              "std      0.486592    0.836071   13.000828   49.693429    1.613459\n",
              "min      0.000000    1.000000    0.000000    0.000000    0.000000\n",
              "25%      0.000000    2.000000   22.000000    7.910400    0.000000\n",
              "50%      0.000000    3.000000   30.000000   14.454200    0.000000\n",
              "75%      1.000000    3.000000   35.000000   31.000000    1.000000\n",
              "max      1.000000    3.000000   80.000000  512.329200   10.000000"
            ],
            "text/html": [
              "\n",
              "  <div id=\"df-c71e0d0b-3937-47b7-a0e9-699dfa36ffac\" class=\"colab-df-container\">\n",
              "    <div>\n",
              "<style scoped>\n",
              "    .dataframe tbody tr th:only-of-type {\n",
              "        vertical-align: middle;\n",
              "    }\n",
              "\n",
              "    .dataframe tbody tr th {\n",
              "        vertical-align: top;\n",
              "    }\n",
              "\n",
              "    .dataframe thead th {\n",
              "        text-align: right;\n",
              "    }\n",
              "</style>\n",
              "<table border=\"1\" class=\"dataframe\">\n",
              "  <thead>\n",
              "    <tr style=\"text-align: right;\">\n",
              "      <th></th>\n",
              "      <th>Survived</th>\n",
              "      <th>Pclass</th>\n",
              "      <th>Age</th>\n",
              "      <th>Fare</th>\n",
              "      <th>Relatives</th>\n",
              "    </tr>\n",
              "  </thead>\n",
              "  <tbody>\n",
              "    <tr>\n",
              "      <th>count</th>\n",
              "      <td>891.000000</td>\n",
              "      <td>891.000000</td>\n",
              "      <td>891.000000</td>\n",
              "      <td>891.000000</td>\n",
              "      <td>891.000000</td>\n",
              "    </tr>\n",
              "    <tr>\n",
              "      <th>mean</th>\n",
              "      <td>0.383838</td>\n",
              "      <td>2.308642</td>\n",
              "      <td>29.754209</td>\n",
              "      <td>32.204208</td>\n",
              "      <td>0.904602</td>\n",
              "    </tr>\n",
              "    <tr>\n",
              "      <th>std</th>\n",
              "      <td>0.486592</td>\n",
              "      <td>0.836071</td>\n",
              "      <td>13.000828</td>\n",
              "      <td>49.693429</td>\n",
              "      <td>1.613459</td>\n",
              "    </tr>\n",
              "    <tr>\n",
              "      <th>min</th>\n",
              "      <td>0.000000</td>\n",
              "      <td>1.000000</td>\n",
              "      <td>0.000000</td>\n",
              "      <td>0.000000</td>\n",
              "      <td>0.000000</td>\n",
              "    </tr>\n",
              "    <tr>\n",
              "      <th>25%</th>\n",
              "      <td>0.000000</td>\n",
              "      <td>2.000000</td>\n",
              "      <td>22.000000</td>\n",
              "      <td>7.910400</td>\n",
              "      <td>0.000000</td>\n",
              "    </tr>\n",
              "    <tr>\n",
              "      <th>50%</th>\n",
              "      <td>0.000000</td>\n",
              "      <td>3.000000</td>\n",
              "      <td>30.000000</td>\n",
              "      <td>14.454200</td>\n",
              "      <td>0.000000</td>\n",
              "    </tr>\n",
              "    <tr>\n",
              "      <th>75%</th>\n",
              "      <td>1.000000</td>\n",
              "      <td>3.000000</td>\n",
              "      <td>35.000000</td>\n",
              "      <td>31.000000</td>\n",
              "      <td>1.000000</td>\n",
              "    </tr>\n",
              "    <tr>\n",
              "      <th>max</th>\n",
              "      <td>1.000000</td>\n",
              "      <td>3.000000</td>\n",
              "      <td>80.000000</td>\n",
              "      <td>512.329200</td>\n",
              "      <td>10.000000</td>\n",
              "    </tr>\n",
              "  </tbody>\n",
              "</table>\n",
              "</div>\n",
              "    <div class=\"colab-df-buttons\">\n",
              "\n",
              "  <div class=\"colab-df-container\">\n",
              "    <button class=\"colab-df-convert\" onclick=\"convertToInteractive('df-c71e0d0b-3937-47b7-a0e9-699dfa36ffac')\"\n",
              "            title=\"Convert this dataframe to an interactive table.\"\n",
              "            style=\"display:none;\">\n",
              "\n",
              "  <svg xmlns=\"http://www.w3.org/2000/svg\" height=\"24px\" viewBox=\"0 -960 960 960\">\n",
              "    <path d=\"M120-120v-720h720v720H120Zm60-500h600v-160H180v160Zm220 220h160v-160H400v160Zm0 220h160v-160H400v160ZM180-400h160v-160H180v160Zm440 0h160v-160H620v160ZM180-180h160v-160H180v160Zm440 0h160v-160H620v160Z\"/>\n",
              "  </svg>\n",
              "    </button>\n",
              "\n",
              "  <style>\n",
              "    .colab-df-container {\n",
              "      display:flex;\n",
              "      gap: 12px;\n",
              "    }\n",
              "\n",
              "    .colab-df-convert {\n",
              "      background-color: #E8F0FE;\n",
              "      border: none;\n",
              "      border-radius: 50%;\n",
              "      cursor: pointer;\n",
              "      display: none;\n",
              "      fill: #1967D2;\n",
              "      height: 32px;\n",
              "      padding: 0 0 0 0;\n",
              "      width: 32px;\n",
              "    }\n",
              "\n",
              "    .colab-df-convert:hover {\n",
              "      background-color: #E2EBFA;\n",
              "      box-shadow: 0px 1px 2px rgba(60, 64, 67, 0.3), 0px 1px 3px 1px rgba(60, 64, 67, 0.15);\n",
              "      fill: #174EA6;\n",
              "    }\n",
              "\n",
              "    .colab-df-buttons div {\n",
              "      margin-bottom: 4px;\n",
              "    }\n",
              "\n",
              "    [theme=dark] .colab-df-convert {\n",
              "      background-color: #3B4455;\n",
              "      fill: #D2E3FC;\n",
              "    }\n",
              "\n",
              "    [theme=dark] .colab-df-convert:hover {\n",
              "      background-color: #434B5C;\n",
              "      box-shadow: 0px 1px 3px 1px rgba(0, 0, 0, 0.15);\n",
              "      filter: drop-shadow(0px 1px 2px rgba(0, 0, 0, 0.3));\n",
              "      fill: #FFFFFF;\n",
              "    }\n",
              "  </style>\n",
              "\n",
              "    <script>\n",
              "      const buttonEl =\n",
              "        document.querySelector('#df-c71e0d0b-3937-47b7-a0e9-699dfa36ffac button.colab-df-convert');\n",
              "      buttonEl.style.display =\n",
              "        google.colab.kernel.accessAllowed ? 'block' : 'none';\n",
              "\n",
              "      async function convertToInteractive(key) {\n",
              "        const element = document.querySelector('#df-c71e0d0b-3937-47b7-a0e9-699dfa36ffac');\n",
              "        const dataTable =\n",
              "          await google.colab.kernel.invokeFunction('convertToInteractive',\n",
              "                                                    [key], {});\n",
              "        if (!dataTable) return;\n",
              "\n",
              "        const docLinkHtml = 'Like what you see? Visit the ' +\n",
              "          '<a target=\"_blank\" href=https://colab.research.google.com/notebooks/data_table.ipynb>data table notebook</a>'\n",
              "          + ' to learn more about interactive tables.';\n",
              "        element.innerHTML = '';\n",
              "        dataTable['output_type'] = 'display_data';\n",
              "        await google.colab.output.renderOutput(dataTable, element);\n",
              "        const docLink = document.createElement('div');\n",
              "        docLink.innerHTML = docLinkHtml;\n",
              "        element.appendChild(docLink);\n",
              "      }\n",
              "    </script>\n",
              "  </div>\n",
              "\n",
              "\n",
              "<div id=\"df-ee568aea-5770-4c14-bbaa-2436e6cfe173\">\n",
              "  <button class=\"colab-df-quickchart\" onclick=\"quickchart('df-ee568aea-5770-4c14-bbaa-2436e6cfe173')\"\n",
              "            title=\"Suggest charts\"\n",
              "            style=\"display:none;\">\n",
              "\n",
              "<svg xmlns=\"http://www.w3.org/2000/svg\" height=\"24px\"viewBox=\"0 0 24 24\"\n",
              "     width=\"24px\">\n",
              "    <g>\n",
              "        <path d=\"M19 3H5c-1.1 0-2 .9-2 2v14c0 1.1.9 2 2 2h14c1.1 0 2-.9 2-2V5c0-1.1-.9-2-2-2zM9 17H7v-7h2v7zm4 0h-2V7h2v10zm4 0h-2v-4h2v4z\"/>\n",
              "    </g>\n",
              "</svg>\n",
              "  </button>\n",
              "\n",
              "<style>\n",
              "  .colab-df-quickchart {\n",
              "      --bg-color: #E8F0FE;\n",
              "      --fill-color: #1967D2;\n",
              "      --hover-bg-color: #E2EBFA;\n",
              "      --hover-fill-color: #174EA6;\n",
              "      --disabled-fill-color: #AAA;\n",
              "      --disabled-bg-color: #DDD;\n",
              "  }\n",
              "\n",
              "  [theme=dark] .colab-df-quickchart {\n",
              "      --bg-color: #3B4455;\n",
              "      --fill-color: #D2E3FC;\n",
              "      --hover-bg-color: #434B5C;\n",
              "      --hover-fill-color: #FFFFFF;\n",
              "      --disabled-bg-color: #3B4455;\n",
              "      --disabled-fill-color: #666;\n",
              "  }\n",
              "\n",
              "  .colab-df-quickchart {\n",
              "    background-color: var(--bg-color);\n",
              "    border: none;\n",
              "    border-radius: 50%;\n",
              "    cursor: pointer;\n",
              "    display: none;\n",
              "    fill: var(--fill-color);\n",
              "    height: 32px;\n",
              "    padding: 0;\n",
              "    width: 32px;\n",
              "  }\n",
              "\n",
              "  .colab-df-quickchart:hover {\n",
              "    background-color: var(--hover-bg-color);\n",
              "    box-shadow: 0 1px 2px rgba(60, 64, 67, 0.3), 0 1px 3px 1px rgba(60, 64, 67, 0.15);\n",
              "    fill: var(--button-hover-fill-color);\n",
              "  }\n",
              "\n",
              "  .colab-df-quickchart-complete:disabled,\n",
              "  .colab-df-quickchart-complete:disabled:hover {\n",
              "    background-color: var(--disabled-bg-color);\n",
              "    fill: var(--disabled-fill-color);\n",
              "    box-shadow: none;\n",
              "  }\n",
              "\n",
              "  .colab-df-spinner {\n",
              "    border: 2px solid var(--fill-color);\n",
              "    border-color: transparent;\n",
              "    border-bottom-color: var(--fill-color);\n",
              "    animation:\n",
              "      spin 1s steps(1) infinite;\n",
              "  }\n",
              "\n",
              "  @keyframes spin {\n",
              "    0% {\n",
              "      border-color: transparent;\n",
              "      border-bottom-color: var(--fill-color);\n",
              "      border-left-color: var(--fill-color);\n",
              "    }\n",
              "    20% {\n",
              "      border-color: transparent;\n",
              "      border-left-color: var(--fill-color);\n",
              "      border-top-color: var(--fill-color);\n",
              "    }\n",
              "    30% {\n",
              "      border-color: transparent;\n",
              "      border-left-color: var(--fill-color);\n",
              "      border-top-color: var(--fill-color);\n",
              "      border-right-color: var(--fill-color);\n",
              "    }\n",
              "    40% {\n",
              "      border-color: transparent;\n",
              "      border-right-color: var(--fill-color);\n",
              "      border-top-color: var(--fill-color);\n",
              "    }\n",
              "    60% {\n",
              "      border-color: transparent;\n",
              "      border-right-color: var(--fill-color);\n",
              "    }\n",
              "    80% {\n",
              "      border-color: transparent;\n",
              "      border-right-color: var(--fill-color);\n",
              "      border-bottom-color: var(--fill-color);\n",
              "    }\n",
              "    90% {\n",
              "      border-color: transparent;\n",
              "      border-bottom-color: var(--fill-color);\n",
              "    }\n",
              "  }\n",
              "</style>\n",
              "\n",
              "  <script>\n",
              "    async function quickchart(key) {\n",
              "      const quickchartButtonEl =\n",
              "        document.querySelector('#' + key + ' button');\n",
              "      quickchartButtonEl.disabled = true;  // To prevent multiple clicks.\n",
              "      quickchartButtonEl.classList.add('colab-df-spinner');\n",
              "      try {\n",
              "        const charts = await google.colab.kernel.invokeFunction(\n",
              "            'suggestCharts', [key], {});\n",
              "      } catch (error) {\n",
              "        console.error('Error during call to suggestCharts:', error);\n",
              "      }\n",
              "      quickchartButtonEl.classList.remove('colab-df-spinner');\n",
              "      quickchartButtonEl.classList.add('colab-df-quickchart-complete');\n",
              "    }\n",
              "    (() => {\n",
              "      let quickchartButtonEl =\n",
              "        document.querySelector('#df-ee568aea-5770-4c14-bbaa-2436e6cfe173 button');\n",
              "      quickchartButtonEl.style.display =\n",
              "        google.colab.kernel.accessAllowed ? 'block' : 'none';\n",
              "    })();\n",
              "  </script>\n",
              "</div>\n",
              "\n",
              "    </div>\n",
              "  </div>\n"
            ],
            "application/vnd.google.colaboratory.intrinsic+json": {
              "type": "dataframe",
              "summary": "{\n  \"name\": \"df1\",\n  \"rows\": 8,\n  \"fields\": [\n    {\n      \"column\": \"Survived\",\n      \"properties\": {\n        \"dtype\": \"number\",\n        \"std\": 314.8713661874558,\n        \"min\": 0.0,\n        \"max\": 891.0,\n        \"num_unique_values\": 5,\n        \"samples\": [\n          0.3838383838383838,\n          1.0,\n          0.4865924542648585\n        ],\n        \"semantic_type\": \"\",\n        \"description\": \"\"\n      }\n    },\n    {\n      \"column\": \"Pclass\",\n      \"properties\": {\n        \"dtype\": \"number\",\n        \"std\": 314.2523437079693,\n        \"min\": 0.8360712409770513,\n        \"max\": 891.0,\n        \"num_unique_values\": 6,\n        \"samples\": [\n          891.0,\n          2.308641975308642,\n          3.0\n        ],\n        \"semantic_type\": \"\",\n        \"description\": \"\"\n      }\n    },\n    {\n      \"column\": \"Age\",\n      \"properties\": {\n        \"dtype\": \"number\",\n        \"std\": 305.30701830390416,\n        \"min\": 0.0,\n        \"max\": 891.0,\n        \"num_unique_values\": 8,\n        \"samples\": [\n          29.754208754208754,\n          30.0,\n          891.0\n        ],\n        \"semantic_type\": \"\",\n        \"description\": \"\"\n      }\n    },\n    {\n      \"column\": \"Fare\",\n      \"properties\": {\n        \"dtype\": \"number\",\n        \"std\": 330.6256632228577,\n        \"min\": 0.0,\n        \"max\": 891.0,\n        \"num_unique_values\": 8,\n        \"samples\": [\n          32.204207968574636,\n          14.4542,\n          891.0\n        ],\n        \"semantic_type\": \"\",\n        \"description\": \"\"\n      }\n    },\n    {\n      \"column\": \"Relatives\",\n      \"properties\": {\n        \"dtype\": \"number\",\n        \"std\": 314.35110179968456,\n        \"min\": 0.0,\n        \"max\": 891.0,\n        \"num_unique_values\": 6,\n        \"samples\": [\n          891.0,\n          0.9046015712682379,\n          10.0\n        ],\n        \"semantic_type\": \"\",\n        \"description\": \"\"\n      }\n    }\n  ]\n}"
            }
          },
          "metadata": {},
          "execution_count": 12
        }
      ]
    },
    {
      "cell_type": "markdown",
      "source": [
        " El analisis descriptivo de las variables nos indica que todo parece normal, salvo para la columna Fare que tiene una media de 32,20 pero su percentil del 50% es 14,45 y su valor máximo es 512,32. Podríamos decir que 512 parece ser un valor atípico, pero podría ser un error de transcripción."
      ],
      "metadata": {
        "id": "RDniBlMgG7uU"
      }
    },
    {
      "cell_type": "code",
      "source": [
        "# Visualisamos con diagramas de caja los posibles outliers\n",
        "fig, axis = plt.subplots(1, 3, figsize = (10, 5))\n",
        "\n",
        "sns.boxplot(ax = axis[0], data = df1, y = \"Age\")\n",
        "sns.boxplot(ax = axis[1], data = df1, y = \"Fare\")\n",
        "sns.boxplot(ax = axis[2], data = df1, y = \"Relatives\")\n",
        "\n",
        "\n",
        "plt.tight_layout()\n",
        "\n",
        "plt.show()"
      ],
      "metadata": {
        "colab": {
          "base_uri": "https://localhost:8080/",
          "height": 422
        },
        "id": "7MWCC6E9H1Wy",
        "outputId": "9d6dd5e7-dc33-4df5-e8d2-22971b58b567"
      },
      "execution_count": null,
      "outputs": [
        {
          "output_type": "display_data",
          "data": {
            "text/plain": [
              "<Figure size 1000x500 with 3 Axes>"
            ],
            "image/png": "[encoded data removed]"
          },
          "metadata": {}
        }
      ]
    },
    {
      "cell_type": "markdown",
      "source": [
        "Podemos visualizar fácilmente que las tres variables estan afectadas por outliers. En el caso de la variable Fare, parece que la tarifa del billete de 512 dólares no es muy común. Deberíamos establecer algunos límites superior e inferior para determinar si un punto de datos debe considerarse o no un valor atípico."
      ],
      "metadata": {
        "id": "dhkr5okzLgaT"
      }
    },
    {
      "cell_type": "code",
      "source": [
        "# Calculamos el rango intercuartilico de la variable Fare\n",
        "fare_iqr = df1[\"Fare\"].quantile(0.75) - df1[\"Fare\"].quantile(0.25)\n",
        "# Establecemos los limites superior e inferior\n",
        "upper_limit = df1[\"Fare\"].quantile(0.75) + 1.5 * fare_iqr\n",
        "lower_limit = df1[\"Fare\"].quantile(0.25) - 1.5 * fare_iqr\n",
        "# Imprimimos resultado\n",
        "print(f\"Los límites superior e inferior para la búsqueda de outliers son {round(upper_limit, 2)} y {round(lower_limit, 2)}, con un rango intercuartílico de {round(fare_iqr, 2)}\")"
      ],
      "metadata": {
        "colab": {
          "base_uri": "https://localhost:8080/"
        },
        "id": "s0V-T8EtL1Q8",
        "outputId": "a9bb978b-9dae-4690-bea3-52f25edbccea"
      },
      "execution_count": null,
      "outputs": [
        {
          "output_type": "stream",
          "name": "stdout",
          "text": [
            "Los límites superior e inferior para la búsqueda de outliers son 65.63 y -26.72, con un rango intercuartílico de 23.09\n"
          ]
        }
      ]
    },
    {
      "cell_type": "markdown",
      "source": [
        "Basándonos en estos resultados, deberíamos eliminar los registros de los pasajeros cuyo importe de billete supere los 65 dólares. Sin embargo, nuestro criterio y según los precios que vimos en el diagrama de caja, los valores más extremos están por encima de 300. Veamos cuántos valores representan ese valor extremo de 300"
      ],
      "metadata": {
        "id": "B40QYcOiMkUC"
      }
    },
    {
      "cell_type": "code",
      "source": [
        "df1[df1[\"Fare\"] > 300]"
      ],
      "metadata": {
        "colab": {
          "base_uri": "https://localhost:8080/",
          "height": 143
        },
        "id": "gCqnfwFtMxcC",
        "outputId": "7005c300-7527-4a3b-aa5f-5099f5411ed1"
      },
      "execution_count": null,
      "outputs": [
        {
          "output_type": "execute_result",
          "data": {
            "text/plain": [
              "     Survived  Pclass     Sex   Age      Fare Embarked  Relatives\n",
              "258         1       1  female  35.0  512.3292        C          0\n",
              "679         1       1    male  36.0  512.3292        C          1\n",
              "737         1       1    male  35.0  512.3292        C          0"
            ],
            "text/html": [
              "\n",
              "  <div id=\"df-c4e1d8f2-5ce4-4b73-a310-2d49aa8cd23f\" class=\"colab-df-container\">\n",
              "    <div>\n",
              "<style scoped>\n",
              "    .dataframe tbody tr th:only-of-type {\n",
              "        vertical-align: middle;\n",
              "    }\n",
              "\n",
              "    .dataframe tbody tr th {\n",
              "        vertical-align: top;\n",
              "    }\n",
              "\n",
              "    .dataframe thead th {\n",
              "        text-align: right;\n",
              "    }\n",
              "</style>\n",
              "<table border=\"1\" class=\"dataframe\">\n",
              "  <thead>\n",
              "    <tr style=\"text-align: right;\">\n",
              "      <th></th>\n",
              "      <th>Survived</th>\n",
              "      <th>Pclass</th>\n",
              "      <th>Sex</th>\n",
              "      <th>Age</th>\n",
              "      <th>Fare</th>\n",
              "      <th>Embarked</th>\n",
              "      <th>Relatives</th>\n",
              "    </tr>\n",
              "  </thead>\n",
              "  <tbody>\n",
              "    <tr>\n",
              "      <th>258</th>\n",
              "      <td>1</td>\n",
              "      <td>1</td>\n",
              "      <td>female</td>\n",
              "      <td>35.0</td>\n",
              "      <td>512.3292</td>\n",
              "      <td>C</td>\n",
              "      <td>0</td>\n",
              "    </tr>\n",
              "    <tr>\n",
              "      <th>679</th>\n",
              "      <td>1</td>\n",
              "      <td>1</td>\n",
              "      <td>male</td>\n",
              "      <td>36.0</td>\n",
              "      <td>512.3292</td>\n",
              "      <td>C</td>\n",
              "      <td>1</td>\n",
              "    </tr>\n",
              "    <tr>\n",
              "      <th>737</th>\n",
              "      <td>1</td>\n",
              "      <td>1</td>\n",
              "      <td>male</td>\n",
              "      <td>35.0</td>\n",
              "      <td>512.3292</td>\n",
              "      <td>C</td>\n",
              "      <td>0</td>\n",
              "    </tr>\n",
              "  </tbody>\n",
              "</table>\n",
              "</div>\n",
              "    <div class=\"colab-df-buttons\">\n",
              "\n",
              "  <div class=\"colab-df-container\">\n",
              "    <button class=\"colab-df-convert\" onclick=\"convertToInteractive('df-c4e1d8f2-5ce4-4b73-a310-2d49aa8cd23f')\"\n",
              "            title=\"Convert this dataframe to an interactive table.\"\n",
              "            style=\"display:none;\">\n",
              "\n",
              "  <svg xmlns=\"http://www.w3.org/2000/svg\" height=\"24px\" viewBox=\"0 -960 960 960\">\n",
              "    <path d=\"M120-120v-720h720v720H120Zm60-500h600v-160H180v160Zm220 220h160v-160H400v160Zm0 220h160v-160H400v160ZM180-400h160v-160H180v160Zm440 0h160v-160H620v160ZM180-180h160v-160H180v160Zm440 0h160v-160H620v160Z\"/>\n",
              "  </svg>\n",
              "    </button>\n",
              "\n",
              "  <style>\n",
              "    .colab-df-container {\n",
              "      display:flex;\n",
              "      gap: 12px;\n",
              "    }\n",
              "\n",
              "    .colab-df-convert {\n",
              "      background-color: #E8F0FE;\n",
              "      border: none;\n",
              "      border-radius: 50%;\n",
              "      cursor: pointer;\n",
              "      display: none;\n",
              "      fill: #1967D2;\n",
              "      height: 32px;\n",
              "      padding: 0 0 0 0;\n",
              "      width: 32px;\n",
              "    }\n",
              "\n",
              "    .colab-df-convert:hover {\n",
              "      background-color: #E2EBFA;\n",
              "      box-shadow: 0px 1px 2px rgba(60, 64, 67, 0.3), 0px 1px 3px 1px rgba(60, 64, 67, 0.15);\n",
              "      fill: #174EA6;\n",
              "    }\n",
              "\n",
              "    .colab-df-buttons div {\n",
              "      margin-bottom: 4px;\n",
              "    }\n",
              "\n",
              "    [theme=dark] .colab-df-convert {\n",
              "      background-color: #3B4455;\n",
              "      fill: #D2E3FC;\n",
              "    }\n",
              "\n",
              "    [theme=dark] .colab-df-convert:hover {\n",
              "      background-color: #434B5C;\n",
              "      box-shadow: 0px 1px 3px 1px rgba(0, 0, 0, 0.15);\n",
              "      filter: drop-shadow(0px 1px 2px rgba(0, 0, 0, 0.3));\n",
              "      fill: #FFFFFF;\n",
              "    }\n",
              "  </style>\n",
              "\n",
              "    <script>\n",
              "      const buttonEl =\n",
              "        document.querySelector('#df-c4e1d8f2-5ce4-4b73-a310-2d49aa8cd23f button.colab-df-convert');\n",
              "      buttonEl.style.display =\n",
              "        google.colab.kernel.accessAllowed ? 'block' : 'none';\n",
              "\n",
              "      async function convertToInteractive(key) {\n",
              "        const element = document.querySelector('#df-c4e1d8f2-5ce4-4b73-a310-2d49aa8cd23f');\n",
              "        const dataTable =\n",
              "          await google.colab.kernel.invokeFunction('convertToInteractive',\n",
              "                                                    [key], {});\n",
              "        if (!dataTable) return;\n",
              "\n",
              "        const docLinkHtml = 'Like what you see? Visit the ' +\n",
              "          '<a target=\"_blank\" href=https://colab.research.google.com/notebooks/data_table.ipynb>data table notebook</a>'\n",
              "          + ' to learn more about interactive tables.';\n",
              "        element.innerHTML = '';\n",
              "        dataTable['output_type'] = 'display_data';\n",
              "        await google.colab.output.renderOutput(dataTable, element);\n",
              "        const docLink = document.createElement('div');\n",
              "        docLink.innerHTML = docLinkHtml;\n",
              "        element.appendChild(docLink);\n",
              "      }\n",
              "    </script>\n",
              "  </div>\n",
              "\n",
              "\n",
              "<div id=\"df-bb71dc64-3dae-4d2d-ad1d-e3ec095acd5a\">\n",
              "  <button class=\"colab-df-quickchart\" onclick=\"quickchart('df-bb71dc64-3dae-4d2d-ad1d-e3ec095acd5a')\"\n",
              "            title=\"Suggest charts\"\n",
              "            style=\"display:none;\">\n",
              "\n",
              "<svg xmlns=\"http://www.w3.org/2000/svg\" height=\"24px\"viewBox=\"0 0 24 24\"\n",
              "     width=\"24px\">\n",
              "    <g>\n",
              "        <path d=\"M19 3H5c-1.1 0-2 .9-2 2v14c0 1.1.9 2 2 2h14c1.1 0 2-.9 2-2V5c0-1.1-.9-2-2-2zM9 17H7v-7h2v7zm4 0h-2V7h2v10zm4 0h-2v-4h2v4z\"/>\n",
              "    </g>\n",
              "</svg>\n",
              "  </button>\n",
              "\n",
              "<style>\n",
              "  .colab-df-quickchart {\n",
              "      --bg-color: #E8F0FE;\n",
              "      --fill-color: #1967D2;\n",
              "      --hover-bg-color: #E2EBFA;\n",
              "      --hover-fill-color: #174EA6;\n",
              "      --disabled-fill-color: #AAA;\n",
              "      --disabled-bg-color: #DDD;\n",
              "  }\n",
              "\n",
              "  [theme=dark] .colab-df-quickchart {\n",
              "      --bg-color: #3B4455;\n",
              "      --fill-color: #D2E3FC;\n",
              "      --hover-bg-color: #434B5C;\n",
              "      --hover-fill-color: #FFFFFF;\n",
              "      --disabled-bg-color: #3B4455;\n",
              "      --disabled-fill-color: #666;\n",
              "  }\n",
              "\n",
              "  .colab-df-quickchart {\n",
              "    background-color: var(--bg-color);\n",
              "    border: none;\n",
              "    border-radius: 50%;\n",
              "    cursor: pointer;\n",
              "    display: none;\n",
              "    fill: var(--fill-color);\n",
              "    height: 32px;\n",
              "    padding: 0;\n",
              "    width: 32px;\n",
              "  }\n",
              "\n",
              "  .colab-df-quickchart:hover {\n",
              "    background-color: var(--hover-bg-color);\n",
              "    box-shadow: 0 1px 2px rgba(60, 64, 67, 0.3), 0 1px 3px 1px rgba(60, 64, 67, 0.15);\n",
              "    fill: var(--button-hover-fill-color);\n",
              "  }\n",
              "\n",
              "  .colab-df-quickchart-complete:disabled,\n",
              "  .colab-df-quickchart-complete:disabled:hover {\n",
              "    background-color: var(--disabled-bg-color);\n",
              "    fill: var(--disabled-fill-color);\n",
              "    box-shadow: none;\n",
              "  }\n",
              "\n",
              "  .colab-df-spinner {\n",
              "    border: 2px solid var(--fill-color);\n",
              "    border-color: transparent;\n",
              "    border-bottom-color: var(--fill-color);\n",
              "    animation:\n",
              "      spin 1s steps(1) infinite;\n",
              "  }\n",
              "\n",
              "  @keyframes spin {\n",
              "    0% {\n",
              "      border-color: transparent;\n",
              "      border-bottom-color: var(--fill-color);\n",
              "      border-left-color: var(--fill-color);\n",
              "    }\n",
              "    20% {\n",
              "      border-color: transparent;\n",
              "      border-left-color: var(--fill-color);\n",
              "      border-top-color: var(--fill-color);\n",
              "    }\n",
              "    30% {\n",
              "      border-color: transparent;\n",
              "      border-left-color: var(--fill-color);\n",
              "      border-top-color: var(--fill-color);\n",
              "      border-right-color: var(--fill-color);\n",
              "    }\n",
              "    40% {\n",
              "      border-color: transparent;\n",
              "      border-right-color: var(--fill-color);\n",
              "      border-top-color: var(--fill-color);\n",
              "    }\n",
              "    60% {\n",
              "      border-color: transparent;\n",
              "      border-right-color: var(--fill-color);\n",
              "    }\n",
              "    80% {\n",
              "      border-color: transparent;\n",
              "      border-right-color: var(--fill-color);\n",
              "      border-bottom-color: var(--fill-color);\n",
              "    }\n",
              "    90% {\n",
              "      border-color: transparent;\n",
              "      border-bottom-color: var(--fill-color);\n",
              "    }\n",
              "  }\n",
              "</style>\n",
              "\n",
              "  <script>\n",
              "    async function quickchart(key) {\n",
              "      const quickchartButtonEl =\n",
              "        document.querySelector('#' + key + ' button');\n",
              "      quickchartButtonEl.disabled = true;  // To prevent multiple clicks.\n",
              "      quickchartButtonEl.classList.add('colab-df-spinner');\n",
              "      try {\n",
              "        const charts = await google.colab.kernel.invokeFunction(\n",
              "            'suggestCharts', [key], {});\n",
              "      } catch (error) {\n",
              "        console.error('Error during call to suggestCharts:', error);\n",
              "      }\n",
              "      quickchartButtonEl.classList.remove('colab-df-spinner');\n",
              "      quickchartButtonEl.classList.add('colab-df-quickchart-complete');\n",
              "    }\n",
              "    (() => {\n",
              "      let quickchartButtonEl =\n",
              "        document.querySelector('#df-bb71dc64-3dae-4d2d-ad1d-e3ec095acd5a button');\n",
              "      quickchartButtonEl.style.display =\n",
              "        google.colab.kernel.accessAllowed ? 'block' : 'none';\n",
              "    })();\n",
              "  </script>\n",
              "</div>\n",
              "\n",
              "    </div>\n",
              "  </div>\n"
            ],
            "application/vnd.google.colaboratory.intrinsic+json": {
              "type": "dataframe",
              "summary": "{\n  \"name\": \"df1[df1[\\\"Fare\\\"] > 300]\",\n  \"rows\": 3,\n  \"fields\": [\n    {\n      \"column\": \"Survived\",\n      \"properties\": {\n        \"dtype\": \"number\",\n        \"std\": 0,\n        \"min\": 1,\n        \"max\": 1,\n        \"num_unique_values\": 1,\n        \"samples\": [\n          1\n        ],\n        \"semantic_type\": \"\",\n        \"description\": \"\"\n      }\n    },\n    {\n      \"column\": \"Pclass\",\n      \"properties\": {\n        \"dtype\": \"number\",\n        \"std\": 0,\n        \"min\": 1,\n        \"max\": 1,\n        \"num_unique_values\": 1,\n        \"samples\": [\n          1\n        ],\n        \"semantic_type\": \"\",\n        \"description\": \"\"\n      }\n    },\n    {\n      \"column\": \"Sex\",\n      \"properties\": {\n        \"dtype\": \"string\",\n        \"num_unique_values\": 2,\n        \"samples\": [\n          \"male\"\n        ],\n        \"semantic_type\": \"\",\n        \"description\": \"\"\n      }\n    },\n    {\n      \"column\": \"Age\",\n      \"properties\": {\n        \"dtype\": \"number\",\n        \"std\": 0.5773502691896258,\n        \"min\": 35.0,\n        \"max\": 36.0,\n        \"num_unique_values\": 2,\n        \"samples\": [\n          36.0\n        ],\n        \"semantic_type\": \"\",\n        \"description\": \"\"\n      }\n    },\n    {\n      \"column\": \"Fare\",\n      \"properties\": {\n        \"dtype\": \"number\",\n        \"std\": 0.0,\n        \"min\": 512.3292,\n        \"max\": 512.3292,\n        \"num_unique_values\": 1,\n        \"samples\": [\n          512.3292\n        ],\n        \"semantic_type\": \"\",\n        \"description\": \"\"\n      }\n    },\n    {\n      \"column\": \"Embarked\",\n      \"properties\": {\n        \"dtype\": \"category\",\n        \"num_unique_values\": 1,\n        \"samples\": [\n          \"C\"\n        ],\n        \"semantic_type\": \"\",\n        \"description\": \"\"\n      }\n    },\n    {\n      \"column\": \"Relatives\",\n      \"properties\": {\n        \"dtype\": \"number\",\n        \"std\": 0,\n        \"min\": 0,\n        \"max\": 1,\n        \"num_unique_values\": 2,\n        \"samples\": [\n          1\n        ],\n        \"semantic_type\": \"\",\n        \"description\": \"\"\n      }\n    }\n  ]\n}"
            }
          },
          "metadata": {},
          "execution_count": 15
        }
      ]
    },
    {
      "cell_type": "markdown",
      "source": [
        "En este caso vemos que todos ellos sobrevivieron, quizá sí que hay un impacto real sobre el precio de billete tan elevado y la supervivencia final. Por lo tanto, sumado al análisis univariante anterior, existe una implicación entre el precio del billete y el resultado final de supervivencia, por lo que decidimos que mantenemos los valores atípicos."
      ],
      "metadata": {
        "id": "j4iqoMnKNVo2"
      }
    },
    {
      "cell_type": "markdown",
      "source": [
        "Transformamos las columnas categoricas a numericas utilizando el transformador One Hot Encoder"
      ],
      "metadata": {
        "id": "2nanySGaMwg6"
      }
    },
    {
      "cell_type": "code",
      "source": [
        "# Importamos librerias\n",
        "from sklearn.preprocessing import OneHotEncoder\n",
        "from sklearn.compose import make_column_transformer\n",
        "\n",
        "# Hacer columnas para One Hot Encoder\n",
        "transformer = make_column_transformer(\n",
        "    (OneHotEncoder(), ['Sex','Embarked']),\n",
        "    remainder='drop')\n",
        "\n",
        "transformed = transformer.fit_transform(df1)\n",
        "\n",
        "transformer.get_feature_names_out()"
      ],
      "metadata": {
        "id": "j2o7q_3JzBPT",
        "colab": {
          "base_uri": "https://localhost:8080/"
        },
        "outputId": "5b8dbd22-8d90-48ab-b864-8385f0ffd207"
      },
      "execution_count": null,
      "outputs": [
        {
          "output_type": "execute_result",
          "data": {
            "text/plain": [
              "array(['onehotencoder__Sex_female', 'onehotencoder__Sex_male',\n",
              "       'onehotencoder__Embarked_C', 'onehotencoder__Embarked_Q',\n",
              "       'onehotencoder__Embarked_S'], dtype=object)"
            ]
          },
          "metadata": {},
          "execution_count": 16
        }
      ]
    },
    {
      "cell_type": "code",
      "source": [
        "transformed_df = pd.DataFrame(\n",
        "    transformed, # Datos del dataframe\n",
        "    columns=transformer.get_feature_names_out().tolist() # nombres de las columnas\n",
        ")\n",
        "\n",
        "# Mostrar info\n",
        "transformed_df.head()"
      ],
      "metadata": {
        "colab": {
          "base_uri": "https://localhost:8080/",
          "height": 226
        },
        "id": "Ce1LH90QzOaB",
        "outputId": "e7df47ff-75c9-49bc-981b-d97ff2152081"
      },
      "execution_count": null,
      "outputs": [
        {
          "output_type": "execute_result",
          "data": {
            "text/plain": [
              "   onehotencoder__Sex_female  onehotencoder__Sex_male  \\\n",
              "0                        0.0                      1.0   \n",
              "1                        1.0                      0.0   \n",
              "2                        1.0                      0.0   \n",
              "3                        1.0                      0.0   \n",
              "4                        0.0                      1.0   \n",
              "\n",
              "   onehotencoder__Embarked_C  onehotencoder__Embarked_Q  \\\n",
              "0                        0.0                        0.0   \n",
              "1                        1.0                        0.0   \n",
              "2                        0.0                        0.0   \n",
              "3                        0.0                        0.0   \n",
              "4                        0.0                        0.0   \n",
              "\n",
              "   onehotencoder__Embarked_S  \n",
              "0                        1.0  \n",
              "1                        0.0  \n",
              "2                        1.0  \n",
              "3                        1.0  \n",
              "4                        1.0  "
            ],
            "text/html": [
              "\n",
              "  <div id=\"df-4471dcae-5284-4be8-984f-b755799ee60c\" class=\"colab-df-container\">\n",
              "    <div>\n",
              "<style scoped>\n",
              "    .dataframe tbody tr th:only-of-type {\n",
              "        vertical-align: middle;\n",
              "    }\n",
              "\n",
              "    .dataframe tbody tr th {\n",
              "        vertical-align: top;\n",
              "    }\n",
              "\n",
              "    .dataframe thead th {\n",
              "        text-align: right;\n",
              "    }\n",
              "</style>\n",
              "<table border=\"1\" class=\"dataframe\">\n",
              "  <thead>\n",
              "    <tr style=\"text-align: right;\">\n",
              "      <th></th>\n",
              "      <th>onehotencoder__Sex_female</th>\n",
              "      <th>onehotencoder__Sex_male</th>\n",
              "      <th>onehotencoder__Embarked_C</th>\n",
              "      <th>onehotencoder__Embarked_Q</th>\n",
              "      <th>onehotencoder__Embarked_S</th>\n",
              "    </tr>\n",
              "  </thead>\n",
              "  <tbody>\n",
              "    <tr>\n",
              "      <th>0</th>\n",
              "      <td>0.0</td>\n",
              "      <td>1.0</td>\n",
              "      <td>0.0</td>\n",
              "      <td>0.0</td>\n",
              "      <td>1.0</td>\n",
              "    </tr>\n",
              "    <tr>\n",
              "      <th>1</th>\n",
              "      <td>1.0</td>\n",
              "      <td>0.0</td>\n",
              "      <td>1.0</td>\n",
              "      <td>0.0</td>\n",
              "      <td>0.0</td>\n",
              "    </tr>\n",
              "    <tr>\n",
              "      <th>2</th>\n",
              "      <td>1.0</td>\n",
              "      <td>0.0</td>\n",
              "      <td>0.0</td>\n",
              "      <td>0.0</td>\n",
              "      <td>1.0</td>\n",
              "    </tr>\n",
              "    <tr>\n",
              "      <th>3</th>\n",
              "      <td>1.0</td>\n",
              "      <td>0.0</td>\n",
              "      <td>0.0</td>\n",
              "      <td>0.0</td>\n",
              "      <td>1.0</td>\n",
              "    </tr>\n",
              "    <tr>\n",
              "      <th>4</th>\n",
              "      <td>0.0</td>\n",
              "      <td>1.0</td>\n",
              "      <td>0.0</td>\n",
              "      <td>0.0</td>\n",
              "      <td>1.0</td>\n",
              "    </tr>\n",
              "  </tbody>\n",
              "</table>\n",
              "</div>\n",
              "    <div class=\"colab-df-buttons\">\n",
              "\n",
              "  <div class=\"colab-df-container\">\n",
              "    <button class=\"colab-df-convert\" onclick=\"convertToInteractive('df-4471dcae-5284-4be8-984f-b755799ee60c')\"\n",
              "            title=\"Convert this dataframe to an interactive table.\"\n",
              "            style=\"display:none;\">\n",
              "\n",
              "  <svg xmlns=\"http://www.w3.org/2000/svg\" height=\"24px\" viewBox=\"0 -960 960 960\">\n",
              "    <path d=\"M120-120v-720h720v720H120Zm60-500h600v-160H180v160Zm220 220h160v-160H400v160Zm0 220h160v-160H400v160ZM180-400h160v-160H180v160Zm440 0h160v-160H620v160ZM180-180h160v-160H180v160Zm440 0h160v-160H620v160Z\"/>\n",
              "  </svg>\n",
              "    </button>\n",
              "\n",
              "  <style>\n",
              "    .colab-df-container {\n",
              "      display:flex;\n",
              "      gap: 12px;\n",
              "    }\n",
              "\n",
              "    .colab-df-convert {\n",
              "      background-color: #E8F0FE;\n",
              "      border: none;\n",
              "      border-radius: 50%;\n",
              "      cursor: pointer;\n",
              "      display: none;\n",
              "      fill: #1967D2;\n",
              "      height: 32px;\n",
              "      padding: 0 0 0 0;\n",
              "      width: 32px;\n",
              "    }\n",
              "\n",
              "    .colab-df-convert:hover {\n",
              "      background-color: #E2EBFA;\n",
              "      box-shadow: 0px 1px 2px rgba(60, 64, 67, 0.3), 0px 1px 3px 1px rgba(60, 64, 67, 0.15);\n",
              "      fill: #174EA6;\n",
              "    }\n",
              "\n",
              "    .colab-df-buttons div {\n",
              "      margin-bottom: 4px;\n",
              "    }\n",
              "\n",
              "    [theme=dark] .colab-df-convert {\n",
              "      background-color: #3B4455;\n",
              "      fill: #D2E3FC;\n",
              "    }\n",
              "\n",
              "    [theme=dark] .colab-df-convert:hover {\n",
              "      background-color: #434B5C;\n",
              "      box-shadow: 0px 1px 3px 1px rgba(0, 0, 0, 0.15);\n",
              "      filter: drop-shadow(0px 1px 2px rgba(0, 0, 0, 0.3));\n",
              "      fill: #FFFFFF;\n",
              "    }\n",
              "  </style>\n",
              "\n",
              "    <script>\n",
              "      const buttonEl =\n",
              "        document.querySelector('#df-4471dcae-5284-4be8-984f-b755799ee60c button.colab-df-convert');\n",
              "      buttonEl.style.display =\n",
              "        google.colab.kernel.accessAllowed ? 'block' : 'none';\n",
              "\n",
              "      async function convertToInteractive(key) {\n",
              "        const element = document.querySelector('#df-4471dcae-5284-4be8-984f-b755799ee60c');\n",
              "        const dataTable =\n",
              "          await google.colab.kernel.invokeFunction('convertToInteractive',\n",
              "                                                    [key], {});\n",
              "        if (!dataTable) return;\n",
              "\n",
              "        const docLinkHtml = 'Like what you see? Visit the ' +\n",
              "          '<a target=\"_blank\" href=https://colab.research.google.com/notebooks/data_table.ipynb>data table notebook</a>'\n",
              "          + ' to learn more about interactive tables.';\n",
              "        element.innerHTML = '';\n",
              "        dataTable['output_type'] = 'display_data';\n",
              "        await google.colab.output.renderOutput(dataTable, element);\n",
              "        const docLink = document.createElement('div');\n",
              "        docLink.innerHTML = docLinkHtml;\n",
              "        element.appendChild(docLink);\n",
              "      }\n",
              "    </script>\n",
              "  </div>\n",
              "\n",
              "\n",
              "<div id=\"df-64fbdcea-336e-4846-a3be-240c34ce913b\">\n",
              "  <button class=\"colab-df-quickchart\" onclick=\"quickchart('df-64fbdcea-336e-4846-a3be-240c34ce913b')\"\n",
              "            title=\"Suggest charts\"\n",
              "            style=\"display:none;\">\n",
              "\n",
              "<svg xmlns=\"http://www.w3.org/2000/svg\" height=\"24px\"viewBox=\"0 0 24 24\"\n",
              "     width=\"24px\">\n",
              "    <g>\n",
              "        <path d=\"M19 3H5c-1.1 0-2 .9-2 2v14c0 1.1.9 2 2 2h14c1.1 0 2-.9 2-2V5c0-1.1-.9-2-2-2zM9 17H7v-7h2v7zm4 0h-2V7h2v10zm4 0h-2v-4h2v4z\"/>\n",
              "    </g>\n",
              "</svg>\n",
              "  </button>\n",
              "\n",
              "<style>\n",
              "  .colab-df-quickchart {\n",
              "      --bg-color: #E8F0FE;\n",
              "      --fill-color: #1967D2;\n",
              "      --hover-bg-color: #E2EBFA;\n",
              "      --hover-fill-color: #174EA6;\n",
              "      --disabled-fill-color: #AAA;\n",
              "      --disabled-bg-color: #DDD;\n",
              "  }\n",
              "\n",
              "  [theme=dark] .colab-df-quickchart {\n",
              "      --bg-color: #3B4455;\n",
              "      --fill-color: #D2E3FC;\n",
              "      --hover-bg-color: #434B5C;\n",
              "      --hover-fill-color: #FFFFFF;\n",
              "      --disabled-bg-color: #3B4455;\n",
              "      --disabled-fill-color: #666;\n",
              "  }\n",
              "\n",
              "  .colab-df-quickchart {\n",
              "    background-color: var(--bg-color);\n",
              "    border: none;\n",
              "    border-radius: 50%;\n",
              "    cursor: pointer;\n",
              "    display: none;\n",
              "    fill: var(--fill-color);\n",
              "    height: 32px;\n",
              "    padding: 0;\n",
              "    width: 32px;\n",
              "  }\n",
              "\n",
              "  .colab-df-quickchart:hover {\n",
              "    background-color: var(--hover-bg-color);\n",
              "    box-shadow: 0 1px 2px rgba(60, 64, 67, 0.3), 0 1px 3px 1px rgba(60, 64, 67, 0.15);\n",
              "    fill: var(--button-hover-fill-color);\n",
              "  }\n",
              "\n",
              "  .colab-df-quickchart-complete:disabled,\n",
              "  .colab-df-quickchart-complete:disabled:hover {\n",
              "    background-color: var(--disabled-bg-color);\n",
              "    fill: var(--disabled-fill-color);\n",
              "    box-shadow: none;\n",
              "  }\n",
              "\n",
              "  .colab-df-spinner {\n",
              "    border: 2px solid var(--fill-color);\n",
              "    border-color: transparent;\n",
              "    border-bottom-color: var(--fill-color);\n",
              "    animation:\n",
              "      spin 1s steps(1) infinite;\n",
              "  }\n",
              "\n",
              "  @keyframes spin {\n",
              "    0% {\n",
              "      border-color: transparent;\n",
              "      border-bottom-color: var(--fill-color);\n",
              "      border-left-color: var(--fill-color);\n",
              "    }\n",
              "    20% {\n",
              "      border-color: transparent;\n",
              "      border-left-color: var(--fill-color);\n",
              "      border-top-color: var(--fill-color);\n",
              "    }\n",
              "    30% {\n",
              "      border-color: transparent;\n",
              "      border-left-color: var(--fill-color);\n",
              "      border-top-color: var(--fill-color);\n",
              "      border-right-color: var(--fill-color);\n",
              "    }\n",
              "    40% {\n",
              "      border-color: transparent;\n",
              "      border-right-color: var(--fill-color);\n",
              "      border-top-color: var(--fill-color);\n",
              "    }\n",
              "    60% {\n",
              "      border-color: transparent;\n",
              "      border-right-color: var(--fill-color);\n",
              "    }\n",
              "    80% {\n",
              "      border-color: transparent;\n",
              "      border-right-color: var(--fill-color);\n",
              "      border-bottom-color: var(--fill-color);\n",
              "    }\n",
              "    90% {\n",
              "      border-color: transparent;\n",
              "      border-bottom-color: var(--fill-color);\n",
              "    }\n",
              "  }\n",
              "</style>\n",
              "\n",
              "  <script>\n",
              "    async function quickchart(key) {\n",
              "      const quickchartButtonEl =\n",
              "        document.querySelector('#' + key + ' button');\n",
              "      quickchartButtonEl.disabled = true;  // To prevent multiple clicks.\n",
              "      quickchartButtonEl.classList.add('colab-df-spinner');\n",
              "      try {\n",
              "        const charts = await google.colab.kernel.invokeFunction(\n",
              "            'suggestCharts', [key], {});\n",
              "      } catch (error) {\n",
              "        console.error('Error during call to suggestCharts:', error);\n",
              "      }\n",
              "      quickchartButtonEl.classList.remove('colab-df-spinner');\n",
              "      quickchartButtonEl.classList.add('colab-df-quickchart-complete');\n",
              "    }\n",
              "    (() => {\n",
              "      let quickchartButtonEl =\n",
              "        document.querySelector('#df-64fbdcea-336e-4846-a3be-240c34ce913b button');\n",
              "      quickchartButtonEl.style.display =\n",
              "        google.colab.kernel.accessAllowed ? 'block' : 'none';\n",
              "    })();\n",
              "  </script>\n",
              "</div>\n",
              "\n",
              "    </div>\n",
              "  </div>\n"
            ],
            "application/vnd.google.colaboratory.intrinsic+json": {
              "type": "dataframe",
              "variable_name": "transformed_df",
              "summary": "{\n  \"name\": \"transformed_df\",\n  \"rows\": 891,\n  \"fields\": [\n    {\n      \"column\": \"onehotencoder__Sex_female\",\n      \"properties\": {\n        \"dtype\": \"number\",\n        \"std\": 0.47799007089609846,\n        \"min\": 0.0,\n        \"max\": 1.0,\n        \"num_unique_values\": 2,\n        \"samples\": [\n          1.0,\n          0.0\n        ],\n        \"semantic_type\": \"\",\n        \"description\": \"\"\n      }\n    },\n    {\n      \"column\": \"onehotencoder__Sex_male\",\n      \"properties\": {\n        \"dtype\": \"number\",\n        \"std\": 0.47799007089609846,\n        \"min\": 0.0,\n        \"max\": 1.0,\n        \"num_unique_values\": 2,\n        \"samples\": [\n          0.0,\n          1.0\n        ],\n        \"semantic_type\": \"\",\n        \"description\": \"\"\n      }\n    },\n    {\n      \"column\": \"onehotencoder__Embarked_C\",\n      \"properties\": {\n        \"dtype\": \"number\",\n        \"std\": 0.3913721645054724,\n        \"min\": 0.0,\n        \"max\": 1.0,\n        \"num_unique_values\": 2,\n        \"samples\": [\n          1.0,\n          0.0\n        ],\n        \"semantic_type\": \"\",\n        \"description\": \"\"\n      }\n    },\n    {\n      \"column\": \"onehotencoder__Embarked_Q\",\n      \"properties\": {\n        \"dtype\": \"number\",\n        \"std\": 0.2811406921417041,\n        \"min\": 0.0,\n        \"max\": 1.0,\n        \"num_unique_values\": 2,\n        \"samples\": [\n          1.0,\n          0.0\n        ],\n        \"semantic_type\": \"\",\n        \"description\": \"\"\n      }\n    },\n    {\n      \"column\": \"onehotencoder__Embarked_S\",\n      \"properties\": {\n        \"dtype\": \"number\",\n        \"std\": 0.4467509100341501,\n        \"min\": 0.0,\n        \"max\": 1.0,\n        \"num_unique_values\": 2,\n        \"samples\": [\n          0.0,\n          1.0\n        ],\n        \"semantic_type\": \"\",\n        \"description\": \"\"\n      }\n    }\n  ]\n}"
            }
          },
          "metadata": {},
          "execution_count": 17
        }
      ]
    },
    {
      "cell_type": "code",
      "source": [
        "df = pd.concat([transformed_df, df1.drop(['Sex','Embarked'],axis=1)],axis=1)\n",
        "df.head(3)"
      ],
      "metadata": {
        "colab": {
          "base_uri": "https://localhost:8080/",
          "height": 163
        },
        "id": "Qc-C1wDHzP2w",
        "outputId": "b0fd574b-e5f9-4a75-cc0c-52f845a2df30"
      },
      "execution_count": null,
      "outputs": [
        {
          "output_type": "execute_result",
          "data": {
            "text/plain": [
              "   onehotencoder__Sex_female  onehotencoder__Sex_male  \\\n",
              "0                        0.0                      1.0   \n",
              "1                        1.0                      0.0   \n",
              "2                        1.0                      0.0   \n",
              "\n",
              "   onehotencoder__Embarked_C  onehotencoder__Embarked_Q  \\\n",
              "0                        0.0                        0.0   \n",
              "1                        1.0                        0.0   \n",
              "2                        0.0                        0.0   \n",
              "\n",
              "   onehotencoder__Embarked_S  Survived  Pclass   Age     Fare  Relatives  \n",
              "0                        1.0         0       3  22.0   7.2500          1  \n",
              "1                        0.0         1       1  38.0  71.2833          1  \n",
              "2                        1.0         1       3  26.0   7.9250          0  "
            ],
            "text/html": [
              "\n",
              "  <div id=\"df-f8270ba5-ceaa-4149-8f6a-751c11a218e7\" class=\"colab-df-container\">\n",
              "    <div>\n",
              "<style scoped>\n",
              "    .dataframe tbody tr th:only-of-type {\n",
              "        vertical-align: middle;\n",
              "    }\n",
              "\n",
              "    .dataframe tbody tr th {\n",
              "        vertical-align: top;\n",
              "    }\n",
              "\n",
              "    .dataframe thead th {\n",
              "        text-align: right;\n",
              "    }\n",
              "</style>\n",
              "<table border=\"1\" class=\"dataframe\">\n",
              "  <thead>\n",
              "    <tr style=\"text-align: right;\">\n",
              "      <th></th>\n",
              "      <th>onehotencoder__Sex_female</th>\n",
              "      <th>onehotencoder__Sex_male</th>\n",
              "      <th>onehotencoder__Embarked_C</th>\n",
              "      <th>onehotencoder__Embarked_Q</th>\n",
              "      <th>onehotencoder__Embarked_S</th>\n",
              "      <th>Survived</th>\n",
              "      <th>Pclass</th>\n",
              "      <th>Age</th>\n",
              "      <th>Fare</th>\n",
              "      <th>Relatives</th>\n",
              "    </tr>\n",
              "  </thead>\n",
              "  <tbody>\n",
              "    <tr>\n",
              "      <th>0</th>\n",
              "      <td>0.0</td>\n",
              "      <td>1.0</td>\n",
              "      <td>0.0</td>\n",
              "      <td>0.0</td>\n",
              "      <td>1.0</td>\n",
              "      <td>0</td>\n",
              "      <td>3</td>\n",
              "      <td>22.0</td>\n",
              "      <td>7.2500</td>\n",
              "      <td>1</td>\n",
              "    </tr>\n",
              "    <tr>\n",
              "      <th>1</th>\n",
              "      <td>1.0</td>\n",
              "      <td>0.0</td>\n",
              "      <td>1.0</td>\n",
              "      <td>0.0</td>\n",
              "      <td>0.0</td>\n",
              "      <td>1</td>\n",
              "      <td>1</td>\n",
              "      <td>38.0</td>\n",
              "      <td>71.2833</td>\n",
              "      <td>1</td>\n",
              "    </tr>\n",
              "    <tr>\n",
              "      <th>2</th>\n",
              "      <td>1.0</td>\n",
              "      <td>0.0</td>\n",
              "      <td>0.0</td>\n",
              "      <td>0.0</td>\n",
              "      <td>1.0</td>\n",
              "      <td>1</td>\n",
              "      <td>3</td>\n",
              "      <td>26.0</td>\n",
              "      <td>7.9250</td>\n",
              "      <td>0</td>\n",
              "    </tr>\n",
              "  </tbody>\n",
              "</table>\n",
              "</div>\n",
              "    <div class=\"colab-df-buttons\">\n",
              "\n",
              "  <div class=\"colab-df-container\">\n",
              "    <button class=\"colab-df-convert\" onclick=\"convertToInteractive('df-f8270ba5-ceaa-4149-8f6a-751c11a218e7')\"\n",
              "            title=\"Convert this dataframe to an interactive table.\"\n",
              "            style=\"display:none;\">\n",
              "\n",
              "  <svg xmlns=\"http://www.w3.org/2000/svg\" height=\"24px\" viewBox=\"0 -960 960 960\">\n",
              "    <path d=\"M120-120v-720h720v720H120Zm60-500h600v-160H180v160Zm220 220h160v-160H400v160Zm0 220h160v-160H400v160ZM180-400h160v-160H180v160Zm440 0h160v-160H620v160ZM180-180h160v-160H180v160Zm440 0h160v-160H620v160Z\"/>\n",
              "  </svg>\n",
              "    </button>\n",
              "\n",
              "  <style>\n",
              "    .colab-df-container {\n",
              "      display:flex;\n",
              "      gap: 12px;\n",
              "    }\n",
              "\n",
              "    .colab-df-convert {\n",
              "      background-color: #E8F0FE;\n",
              "      border: none;\n",
              "      border-radius: 50%;\n",
              "      cursor: pointer;\n",
              "      display: none;\n",
              "      fill: #1967D2;\n",
              "      height: 32px;\n",
              "      padding: 0 0 0 0;\n",
              "      width: 32px;\n",
              "    }\n",
              "\n",
              "    .colab-df-convert:hover {\n",
              "      background-color: #E2EBFA;\n",
              "      box-shadow: 0px 1px 2px rgba(60, 64, 67, 0.3), 0px 1px 3px 1px rgba(60, 64, 67, 0.15);\n",
              "      fill: #174EA6;\n",
              "    }\n",
              "\n",
              "    .colab-df-buttons div {\n",
              "      margin-bottom: 4px;\n",
              "    }\n",
              "\n",
              "    [theme=dark] .colab-df-convert {\n",
              "      background-color: #3B4455;\n",
              "      fill: #D2E3FC;\n",
              "    }\n",
              "\n",
              "    [theme=dark] .colab-df-convert:hover {\n",
              "      background-color: #434B5C;\n",
              "      box-shadow: 0px 1px 3px 1px rgba(0, 0, 0, 0.15);\n",
              "      filter: drop-shadow(0px 1px 2px rgba(0, 0, 0, 0.3));\n",
              "      fill: #FFFFFF;\n",
              "    }\n",
              "  </style>\n",
              "\n",
              "    <script>\n",
              "      const buttonEl =\n",
              "        document.querySelector('#df-f8270ba5-ceaa-4149-8f6a-751c11a218e7 button.colab-df-convert');\n",
              "      buttonEl.style.display =\n",
              "        google.colab.kernel.accessAllowed ? 'block' : 'none';\n",
              "\n",
              "      async function convertToInteractive(key) {\n",
              "        const element = document.querySelector('#df-f8270ba5-ceaa-4149-8f6a-751c11a218e7');\n",
              "        const dataTable =\n",
              "          await google.colab.kernel.invokeFunction('convertToInteractive',\n",
              "                                                    [key], {});\n",
              "        if (!dataTable) return;\n",
              "\n",
              "        const docLinkHtml = 'Like what you see? Visit the ' +\n",
              "          '<a target=\"_blank\" href=https://colab.research.google.com/notebooks/data_table.ipynb>data table notebook</a>'\n",
              "          + ' to learn more about interactive tables.';\n",
              "        element.innerHTML = '';\n",
              "        dataTable['output_type'] = 'display_data';\n",
              "        await google.colab.output.renderOutput(dataTable, element);\n",
              "        const docLink = document.createElement('div');\n",
              "        docLink.innerHTML = docLinkHtml;\n",
              "        element.appendChild(docLink);\n",
              "      }\n",
              "    </script>\n",
              "  </div>\n",
              "\n",
              "\n",
              "<div id=\"df-08965d91-4e07-4080-aea2-251edda3be9b\">\n",
              "  <button class=\"colab-df-quickchart\" onclick=\"quickchart('df-08965d91-4e07-4080-aea2-251edda3be9b')\"\n",
              "            title=\"Suggest charts\"\n",
              "            style=\"display:none;\">\n",
              "\n",
              "<svg xmlns=\"http://www.w3.org/2000/svg\" height=\"24px\"viewBox=\"0 0 24 24\"\n",
              "     width=\"24px\">\n",
              "    <g>\n",
              "        <path d=\"M19 3H5c-1.1 0-2 .9-2 2v14c0 1.1.9 2 2 2h14c1.1 0 2-.9 2-2V5c0-1.1-.9-2-2-2zM9 17H7v-7h2v7zm4 0h-2V7h2v10zm4 0h-2v-4h2v4z\"/>\n",
              "    </g>\n",
              "</svg>\n",
              "  </button>\n",
              "\n",
              "<style>\n",
              "  .colab-df-quickchart {\n",
              "      --bg-color: #E8F0FE;\n",
              "      --fill-color: #1967D2;\n",
              "      --hover-bg-color: #E2EBFA;\n",
              "      --hover-fill-color: #174EA6;\n",
              "      --disabled-fill-color: #AAA;\n",
              "      --disabled-bg-color: #DDD;\n",
              "  }\n",
              "\n",
              "  [theme=dark] .colab-df-quickchart {\n",
              "      --bg-color: #3B4455;\n",
              "      --fill-color: #D2E3FC;\n",
              "      --hover-bg-color: #434B5C;\n",
              "      --hover-fill-color: #FFFFFF;\n",
              "      --disabled-bg-color: #3B4455;\n",
              "      --disabled-fill-color: #666;\n",
              "  }\n",
              "\n",
              "  .colab-df-quickchart {\n",
              "    background-color: var(--bg-color);\n",
              "    border: none;\n",
              "    border-radius: 50%;\n",
              "    cursor: pointer;\n",
              "    display: none;\n",
              "    fill: var(--fill-color);\n",
              "    height: 32px;\n",
              "    padding: 0;\n",
              "    width: 32px;\n",
              "  }\n",
              "\n",
              "  .colab-df-quickchart:hover {\n",
              "    background-color: var(--hover-bg-color);\n",
              "    box-shadow: 0 1px 2px rgba(60, 64, 67, 0.3), 0 1px 3px 1px rgba(60, 64, 67, 0.15);\n",
              "    fill: var(--button-hover-fill-color);\n",
              "  }\n",
              "\n",
              "  .colab-df-quickchart-complete:disabled,\n",
              "  .colab-df-quickchart-complete:disabled:hover {\n",
              "    background-color: var(--disabled-bg-color);\n",
              "    fill: var(--disabled-fill-color);\n",
              "    box-shadow: none;\n",
              "  }\n",
              "\n",
              "  .colab-df-spinner {\n",
              "    border: 2px solid var(--fill-color);\n",
              "    border-color: transparent;\n",
              "    border-bottom-color: var(--fill-color);\n",
              "    animation:\n",
              "      spin 1s steps(1) infinite;\n",
              "  }\n",
              "\n",
              "  @keyframes spin {\n",
              "    0% {\n",
              "      border-color: transparent;\n",
              "      border-bottom-color: var(--fill-color);\n",
              "      border-left-color: var(--fill-color);\n",
              "    }\n",
              "    20% {\n",
              "      border-color: transparent;\n",
              "      border-left-color: var(--fill-color);\n",
              "      border-top-color: var(--fill-color);\n",
              "    }\n",
              "    30% {\n",
              "      border-color: transparent;\n",
              "      border-left-color: var(--fill-color);\n",
              "      border-top-color: var(--fill-color);\n",
              "      border-right-color: var(--fill-color);\n",
              "    }\n",
              "    40% {\n",
              "      border-color: transparent;\n",
              "      border-right-color: var(--fill-color);\n",
              "      border-top-color: var(--fill-color);\n",
              "    }\n",
              "    60% {\n",
              "      border-color: transparent;\n",
              "      border-right-color: var(--fill-color);\n",
              "    }\n",
              "    80% {\n",
              "      border-color: transparent;\n",
              "      border-right-color: var(--fill-color);\n",
              "      border-bottom-color: var(--fill-color);\n",
              "    }\n",
              "    90% {\n",
              "      border-color: transparent;\n",
              "      border-bottom-color: var(--fill-color);\n",
              "    }\n",
              "  }\n",
              "</style>\n",
              "\n",
              "  <script>\n",
              "    async function quickchart(key) {\n",
              "      const quickchartButtonEl =\n",
              "        document.querySelector('#' + key + ' button');\n",
              "      quickchartButtonEl.disabled = true;  // To prevent multiple clicks.\n",
              "      quickchartButtonEl.classList.add('colab-df-spinner');\n",
              "      try {\n",
              "        const charts = await google.colab.kernel.invokeFunction(\n",
              "            'suggestCharts', [key], {});\n",
              "      } catch (error) {\n",
              "        console.error('Error during call to suggestCharts:', error);\n",
              "      }\n",
              "      quickchartButtonEl.classList.remove('colab-df-spinner');\n",
              "      quickchartButtonEl.classList.add('colab-df-quickchart-complete');\n",
              "    }\n",
              "    (() => {\n",
              "      let quickchartButtonEl =\n",
              "        document.querySelector('#df-08965d91-4e07-4080-aea2-251edda3be9b button');\n",
              "      quickchartButtonEl.style.display =\n",
              "        google.colab.kernel.accessAllowed ? 'block' : 'none';\n",
              "    })();\n",
              "  </script>\n",
              "</div>\n",
              "\n",
              "    </div>\n",
              "  </div>\n"
            ],
            "application/vnd.google.colaboratory.intrinsic+json": {
              "type": "dataframe",
              "variable_name": "df",
              "summary": "{\n  \"name\": \"df\",\n  \"rows\": 891,\n  \"fields\": [\n    {\n      \"column\": \"onehotencoder__Sex_female\",\n      \"properties\": {\n        \"dtype\": \"number\",\n        \"std\": 0.47799007089609846,\n        \"min\": 0.0,\n        \"max\": 1.0,\n        \"num_unique_values\": 2,\n        \"samples\": [\n          1.0,\n          0.0\n        ],\n        \"semantic_type\": \"\",\n        \"description\": \"\"\n      }\n    },\n    {\n      \"column\": \"onehotencoder__Sex_male\",\n      \"properties\": {\n        \"dtype\": \"number\",\n        \"std\": 0.47799007089609846,\n        \"min\": 0.0,\n        \"max\": 1.0,\n        \"num_unique_values\": 2,\n        \"samples\": [\n          0.0,\n          1.0\n        ],\n        \"semantic_type\": \"\",\n        \"description\": \"\"\n      }\n    },\n    {\n      \"column\": \"onehotencoder__Embarked_C\",\n      \"properties\": {\n        \"dtype\": \"number\",\n        \"std\": 0.3913721645054724,\n        \"min\": 0.0,\n        \"max\": 1.0,\n        \"num_unique_values\": 2,\n        \"samples\": [\n          1.0,\n          0.0\n        ],\n        \"semantic_type\": \"\",\n        \"description\": \"\"\n      }\n    },\n    {\n      \"column\": \"onehotencoder__Embarked_Q\",\n      \"properties\": {\n        \"dtype\": \"number\",\n        \"std\": 0.2811406921417041,\n        \"min\": 0.0,\n        \"max\": 1.0,\n        \"num_unique_values\": 2,\n        \"samples\": [\n          1.0,\n          0.0\n        ],\n        \"semantic_type\": \"\",\n        \"description\": \"\"\n      }\n    },\n    {\n      \"column\": \"onehotencoder__Embarked_S\",\n      \"properties\": {\n        \"dtype\": \"number\",\n        \"std\": 0.4467509100341501,\n        \"min\": 0.0,\n        \"max\": 1.0,\n        \"num_unique_values\": 2,\n        \"samples\": [\n          0.0,\n          1.0\n        ],\n        \"semantic_type\": \"\",\n        \"description\": \"\"\n      }\n    },\n    {\n      \"column\": \"Survived\",\n      \"properties\": {\n        \"dtype\": \"number\",\n        \"std\": 0,\n        \"min\": 0,\n        \"max\": 1,\n        \"num_unique_values\": 2,\n        \"samples\": [\n          1,\n          0\n        ],\n        \"semantic_type\": \"\",\n        \"description\": \"\"\n      }\n    },\n    {\n      \"column\": \"Pclass\",\n      \"properties\": {\n        \"dtype\": \"number\",\n        \"std\": 0,\n        \"min\": 1,\n        \"max\": 3,\n        \"num_unique_values\": 3,\n        \"samples\": [\n          3,\n          1\n        ],\n        \"semantic_type\": \"\",\n        \"description\": \"\"\n      }\n    },\n    {\n      \"column\": \"Age\",\n      \"properties\": {\n        \"dtype\": \"number\",\n        \"std\": 13.000828483417855,\n        \"min\": 0.0,\n        \"max\": 80.0,\n        \"num_unique_values\": 71,\n        \"samples\": [\n          42.0,\n          22.0\n        ],\n        \"semantic_type\": \"\",\n        \"description\": \"\"\n      }\n    },\n    {\n      \"column\": \"Fare\",\n      \"properties\": {\n        \"dtype\": \"number\",\n        \"std\": 49.693428597180905,\n        \"min\": 0.0,\n        \"max\": 512.3292,\n        \"num_unique_values\": 248,\n        \"samples\": [\n          11.2417,\n          51.8625\n        ],\n        \"semantic_type\": \"\",\n        \"description\": \"\"\n      }\n    },\n    {\n      \"column\": \"Relatives\",\n      \"properties\": {\n        \"dtype\": \"number\",\n        \"std\": 1,\n        \"min\": 0,\n        \"max\": 10,\n        \"num_unique_values\": 9,\n        \"samples\": [\n          7,\n          0\n        ],\n        \"semantic_type\": \"\",\n        \"description\": \"\"\n      }\n    }\n  ]\n}"
            }
          },
          "metadata": {},
          "execution_count": 18
        }
      ]
    },
    {
      "cell_type": "markdown",
      "source": [
        "## Evaluación inicial de los modelos\n"
      ],
      "metadata": {
        "id": "BvPr-buZwUnF"
      }
    },
    {
      "cell_type": "markdown",
      "source": [
        "RandomForest"
      ],
      "metadata": {
        "id": "rEJrGx_8-ShH"
      }
    },
    {
      "cell_type": "code",
      "source": [
        "# Descargamos la librerias\n",
        "from sklearn.ensemble import RandomForestClassifier\n",
        "from sklearn.model_selection import train_test_split\n",
        "from sklearn.metrics import accuracy_score, classification_report\n",
        "from sklearn.metrics import roc_auc_score\n",
        "\n",
        "# Definir X (características) e y (variable objetivo)\n",
        "X = df.drop('Survived', axis=1)\n",
        "y = df['Survived']\n",
        "\n",
        "# Dividir los datos en conjuntos de entrenamiento y prueba\n",
        "X_train, X_test, y_train, y_test = train_test_split(X, y, test_size=0.33, random_state=5)\n",
        "\n",
        "# Entrenar un modelo de Random Forest\n",
        "rf_model = RandomForestClassifier(max_depth=4, random_state=5)\n",
        "rf_model.fit(X_train, y_train)\n",
        "\n",
        "# Hacer predicciones\n",
        "y_pred = rf_model.predict(X_test)\n",
        "\n",
        "# Evaluar el modelo\n",
        "accuracy = accuracy_score(y_test, y_pred)\n",
        "print(f\"Accuracy del modelo RF: {accuracy:}\")\n",
        "\n",
        "print(classification_report(y_test, y_pred))\n",
        "\n",
        "# Obtener las probabilidades predichas para la clase positiva\n",
        "y_probs = rf_model.predict_proba(X_test)[:, 1]\n",
        "\n",
        "# Calcular el puntaje AUC\n",
        "auc_score = roc_auc_score(y_test, y_probs)\n",
        "\n",
        "# Imprimir el puntaje AUC\n",
        "print(f\"Puntaje AUC: {auc_score}\")\n"
      ],
      "metadata": {
        "colab": {
          "base_uri": "https://localhost:8080/"
        },
        "id": "KfeS_MnWzxCW",
        "outputId": "0b2b58a0-321f-483d-a8d6-9f4169eaf4ce"
      },
      "execution_count": null,
      "outputs": [
        {
          "output_type": "stream",
          "name": "stdout",
          "text": [
            "Accuracy del modelo RF: 0.8338983050847457\n",
            "              precision    recall  f1-score   support\n",
            "\n",
            "           0       0.83      0.93      0.88       187\n",
            "           1       0.85      0.67      0.75       108\n",
            "\n",
            "    accuracy                           0.83       295\n",
            "   macro avg       0.84      0.80      0.81       295\n",
            "weighted avg       0.84      0.83      0.83       295\n",
            "\n",
            "Puntaje AUC: 0.8853980986333927\n"
          ]
        }
      ]
    },
    {
      "cell_type": "markdown",
      "source": [
        "KN Neighbors Classifier"
      ],
      "metadata": {
        "id": "XkOtkpv6Bigj"
      }
    },
    {
      "cell_type": "code",
      "source": [
        "from sklearn.model_selection import train_test_split\n",
        "from sklearn.neighbors import KNeighborsClassifier\n",
        "from sklearn.metrics import accuracy_score\n",
        "\n",
        "\n",
        "# Define las columnas de características (X) y la columna objetivo (y)\n",
        "X = df.drop('Survived', axis=1)  # Reemplaza con las columnas de tu DataFrame\n",
        "y = df['Survived']  # Reemplaza con la columna objetivo\n",
        "\n",
        "# Divide los datos en conjuntos de entrenamiento y prueba\n",
        "X_train, X_test, y_train, y_test = train_test_split(X, y, test_size=0.33, random_state=42)  # Ajusta test_size y random_state según sea necesario\n",
        "\n",
        "# Crea un clasificador KNN con k=5 (puedes ajustar k)\n",
        "knn = KNeighborsClassifier(n_neighbors=5)\n",
        "\n",
        "# Entrena el modelo con los datos de entrenamiento\n",
        "knn.fit(X_train, y_train)\n",
        "\n",
        "# Realiza predicciones en el conjunto de prueba\n",
        "y_pred = knn.predict(X_test)\n",
        "\n",
        "# Calcula la precisión (accuracy)\n",
        "accuracy = accuracy_score(y_test, y_pred)\n",
        "print(f\"Accuracy del modelo KNN: {accuracy}\")\n",
        "\n",
        "print(classification_report(y_test, y_pred))\n",
        "\n",
        "# Predecir las probabilidades para la clase positiva\n",
        "y_probs = knn.predict_proba(X_test)[:, 1]\n",
        "\n",
        "# Calcular el AUC\n",
        "auc_score = roc_auc_score(y_test, y_probs)\n",
        "\n",
        "# Imprimir el AUC\n",
        "print(f\"Puntaje AUC del modelo KNN: {auc_score}\")"
      ],
      "metadata": {
        "colab": {
          "base_uri": "https://localhost:8080/"
        },
        "id": "nmQLAC6X9kY8",
        "outputId": "41584ae4-5ab2-43d8-fe74-3fc1ebda6d0e"
      },
      "execution_count": null,
      "outputs": [
        {
          "output_type": "stream",
          "name": "stdout",
          "text": [
            "Accuracy del modelo KNN: 0.7288135593220338\n",
            "              precision    recall  f1-score   support\n",
            "\n",
            "           0       0.75      0.82      0.78       175\n",
            "           1       0.69      0.60      0.64       120\n",
            "\n",
            "    accuracy                           0.73       295\n",
            "   macro avg       0.72      0.71      0.71       295\n",
            "weighted avg       0.73      0.73      0.73       295\n",
            "\n",
            "Puntaje AUC del modelo KNN: 0.7854761904761904\n"
          ]
        }
      ]
    },
    {
      "cell_type": "markdown",
      "source": [
        "Regresión Logistica"
      ],
      "metadata": {
        "id": "KLgNry_RBsA8"
      }
    },
    {
      "cell_type": "code",
      "source": [
        "from sklearn.linear_model import LogisticRegression\n",
        "from sklearn.model_selection import train_test_split\n",
        "from sklearn.metrics import accuracy_score\n",
        "\n",
        "# Define las características (X) y la variable objetivo (y)\n",
        "X = df.drop('Survived', axis=1)\n",
        "y = df['Survived']\n",
        "\n",
        "# Divide los datos en conjuntos de entrenamiento y prueba\n",
        "X_train, X_test, y_train, y_test = train_test_split(X, y, test_size=0.33, random_state=42)\n",
        "\n",
        "# Crea un modelo de regresión logística\n",
        "model = LogisticRegression(random_state=42)\n",
        "\n",
        "# Entrena el modelo con los datos de entrenamiento\n",
        "model.fit(X_train, y_train)\n",
        "\n",
        "# Realiza predicciones en el conjunto de prueba\n",
        "y_pred = model.predict(X_test)\n",
        "\n",
        "# Calcula la precisión (accuracy)\n",
        "accuracy = accuracy_score(y_test, y_pred)\n",
        "print(f\"Precisión (Accuracy) del modelo: {accuracy}\")\n",
        "\n",
        "print(classification_report(y_test, y_pred))\n",
        "\n",
        "# Obtener las probabilidades predichas para la clase positiva\n",
        "y_probs = model.predict_proba(X_test)[:, 1]\n",
        "\n",
        "# Calcular el puntaje AUC\n",
        "auc_score = roc_auc_score(y_test, y_probs)\n",
        "\n",
        "# Imprimir el puntaje AUC\n",
        "print(f\"Puntaje AUC Modelo RL: {auc_score}\")"
      ],
      "metadata": {
        "colab": {
          "base_uri": "https://localhost:8080/"
        },
        "id": "YyK8JBsJASf6",
        "outputId": "aae3f54a-f01b-4b67-e378-cdac5e28f0d8"
      },
      "execution_count": null,
      "outputs": [
        {
          "output_type": "stream",
          "name": "stdout",
          "text": [
            "Precisión (Accuracy) del modelo: 0.8135593220338984\n",
            "              precision    recall  f1-score   support\n",
            "\n",
            "           0       0.82      0.88      0.85       175\n",
            "           1       0.80      0.72      0.76       120\n",
            "\n",
            "    accuracy                           0.81       295\n",
            "   macro avg       0.81      0.80      0.80       295\n",
            "weighted avg       0.81      0.81      0.81       295\n",
            "\n",
            "Puntaje AUC Modelo RL: 0.8795714285714287\n"
          ]
        }
      ]
    },
    {
      "cell_type": "markdown",
      "source": [
        "## Analisis y manejo de Outliers Multivariado"
      ],
      "metadata": {
        "id": "tmW1OLdlCmnS"
      }
    },
    {
      "cell_type": "markdown",
      "source": [
        "Evaluaremos cuatro algoritmos de aprendizaje automático no supervisado para la detección de anomalías y seleccionaremos el que nos proporcione un mejor perfomance utilizando para su medición el error medio absoluto de cada modelo (MAE)"
      ],
      "metadata": {
        "id": "iHL0n33BKuVE"
      }
    },
    {
      "cell_type": "markdown",
      "source": [
        "Isolation Forest"
      ],
      "metadata": {
        "id": "Gsq93VGd1H9P"
      }
    },
    {
      "cell_type": "code",
      "source": [
        "from sklearn.model_selection import train_test_split\n",
        "from sklearn.linear_model import LinearRegression\n",
        "from sklearn.ensemble import IsolationForest\n",
        "from sklearn.metrics import mean_absolute_error\n",
        "\n",
        "# Define las características (X) y la variable objetivo (y)\n",
        "data_x = df.drop('Survived', axis=1).values\n",
        "data_y = df['Survived'].values\n",
        "X, y = data_x, data_y\n",
        "\n",
        "X_train, X_test, y_train, y_test = train_test_split(X, y, test_size=0.30, random_state=1)\n",
        "print(X_train.shape, y_train.shape)\n",
        "\n",
        "# identificar outliers en el dataset de train\n",
        "iso = IsolationForest(contamination=0.05) # contamination = proporcion de outliers esperada\n",
        "yhat = iso.fit_predict(X_train)\n",
        "\n",
        "# seleccionar todas las filas que no son outliers\n",
        "mask = yhat != -1 # filtro\n",
        "X_train, y_train = X_train[mask, :], y_train[mask]\n",
        "\n",
        "# Ajustar modelo\n",
        "model = LinearRegression()\n",
        "model.fit(X_train, y_train)\n",
        "# evaluar el modelo\n",
        "yhat = model.predict(X_test)\n",
        "# evaluar predicciones\n",
        "mae = mean_absolute_error(y_test, yhat)\n",
        "print('MAE: %.3f' % mae)"
      ],
      "metadata": {
        "colab": {
          "base_uri": "https://localhost:8080/"
        },
        "id": "9E0Y1eZvx69O",
        "outputId": "d6386dc6-b2d4-4f2e-e0b3-f94d1d339d0e"
      },
      "execution_count": null,
      "outputs": [
        {
          "output_type": "stream",
          "name": "stdout",
          "text": [
            "(623, 9) (623,)\n",
            "MAE: 0.312\n"
          ]
        }
      ]
    },
    {
      "cell_type": "markdown",
      "source": [
        "Minimum Covariance Determinant"
      ],
      "metadata": {
        "id": "RIOPzxSR2jkr"
      }
    },
    {
      "cell_type": "code",
      "source": [
        "from sklearn.model_selection import train_test_split\n",
        "from sklearn.linear_model import LinearRegression\n",
        "from sklearn.covariance import EllipticEnvelope\n",
        "from sklearn.metrics import mean_absolute_error\n",
        "\n",
        "data_x_mcd = df.drop('Survived', axis=1).values\n",
        "data_y_mcd = df['Survived'].values\n",
        "X, y = data_x_mcd, data_y_mcd\n",
        "\n",
        "X_train, X_test, y_train, y_test = train_test_split(X, y, test_size=0.3, random_state=1)\n",
        "print(X_train.shape, y_train.shape)\n",
        "# identicar outliers con el metodo\n",
        "ee = EllipticEnvelope(contamination=0.01)\n",
        "yhat = ee.fit_predict(X_train)\n",
        "# Seleccionar filas que no son outliers\n",
        "mask = yhat != -1\n",
        "X_train, y_train = X_train[mask, :], y_train[mask]\n",
        "# Dataset reusltante luego de limpiar\n",
        "print(X_train.shape, y_train.shape)\n",
        "# Ajustar el modelo\n",
        "model = LinearRegression()\n",
        "model.fit(X_train, y_train)\n",
        "# Obtener predicciones\n",
        "yhat = model.predict(X_test)\n",
        "# evaluar predicciones\n",
        "mae = mean_absolute_error(y_test, yhat)\n",
        "print('MAE: %.3f' % mae)"
      ],
      "metadata": {
        "colab": {
          "base_uri": "https://localhost:8080/"
        },
        "id": "djT3jZW315tf",
        "outputId": "56718427-edad-4249-a405-01ce24c0e636"
      },
      "execution_count": null,
      "outputs": [
        {
          "output_type": "stream",
          "name": "stdout",
          "text": [
            "(623, 9) (623,)\n",
            "(616, 9) (616,)\n",
            "MAE: 0.314\n"
          ]
        }
      ]
    },
    {
      "cell_type": "markdown",
      "source": [
        "Local Outlier Factor"
      ],
      "metadata": {
        "id": "WsJRnQ8l2yXn"
      }
    },
    {
      "cell_type": "code",
      "source": [
        "from sklearn.model_selection import train_test_split\n",
        "from sklearn.linear_model import LinearRegression\n",
        "from sklearn.neighbors import LocalOutlierFactor\n",
        "from sklearn.metrics import mean_absolute_error\n",
        "\n",
        "data_x_lof = df.drop('Survived', axis=1).values\n",
        "data_y_lof = df['Survived'].values\n",
        "X, y = data_x_lof, data_y_lof\n",
        "X, y = data_x_lof, data_y_lof\n",
        "X_train, X_test, y_train, y_test = train_test_split(X, y, test_size=0.3, random_state=1)\n",
        "print(X_train.shape, y_train.shape)\n",
        "\n",
        "# identicar outliers en train\n",
        "lof = LocalOutlierFactor()\n",
        "yhat = lof.fit_predict(X_train)\n",
        "\n",
        "# seleccionar filas que no son outliers\n",
        "mask = yhat != -1\n",
        "X_train, y_train = X_train[mask, :], y_train[mask]\n",
        "\n",
        "# dataset resultante luego del filtro\n",
        "print(X_train.shape, y_train.shape)\n",
        "\n",
        "# ajustar el modelo\n",
        "model = LinearRegression()\n",
        "model.fit(X_train, y_train)\n",
        "\n",
        "# evaluar el modelo\n",
        "yhat = model.predict(X_test)\n",
        "\n",
        "# evaluar predicciones\n",
        "mae = mean_absolute_error(y_test, yhat)\n",
        "print('MAE: %.3f' % mae)"
      ],
      "metadata": {
        "colab": {
          "base_uri": "https://localhost:8080/"
        },
        "id": "LTJMQxD02eUl",
        "outputId": "02800116-00ad-4fe4-9260-f3d5c96bb371"
      },
      "execution_count": null,
      "outputs": [
        {
          "output_type": "stream",
          "name": "stdout",
          "text": [
            "(623, 9) (623,)\n",
            "(551, 9) (551,)\n",
            "MAE: 0.314\n"
          ]
        }
      ]
    },
    {
      "cell_type": "markdown",
      "source": [
        "One Class - SVM"
      ],
      "metadata": {
        "id": "Zumu9ZZu3Ym5"
      }
    },
    {
      "cell_type": "code",
      "source": [
        "from sklearn.model_selection import train_test_split\n",
        "from sklearn.linear_model import LinearRegression\n",
        "from sklearn.svm import OneClassSVM\n",
        "from sklearn.metrics import mean_absolute_error\n",
        "\n",
        "data_x_svm = df.drop('Survived', axis=1).values\n",
        "data_y_svm = df['Survived'].values\n",
        "X, y = data_x_svm, data_y_svm\n",
        "X_train, X_test, y_train, y_test = train_test_split(X, y, test_size=0.3, random_state=1)\n",
        "print(X_train.shape, y_train.shape)\n",
        "# identicar outliers en train\n",
        "ee = OneClassSVM(nu=0.01)\n",
        "yhat = ee.fit_predict(X_train)\n",
        "# Seleccionar filas que no son outliers\n",
        "mask = yhat != -1\n",
        "X_train, y_train = X_train[mask, :], y_train[mask]\n",
        "# dataset resultante tamaño\n",
        "print(X_train.shape, y_train.shape)\n",
        "# Ajustar el modelo\n",
        "model = LinearRegression()\n",
        "model.fit(X_train, y_train)\n",
        "# evaluar el modelo\n",
        "yhat = model.predict(X_test)\n",
        "# evaluar predicciones\n",
        "mae = mean_absolute_error(y_test, yhat)\n",
        "print('MAE: %.3f' % mae)"
      ],
      "metadata": {
        "colab": {
          "base_uri": "https://localhost:8080/"
        },
        "id": "WfGlEAgs3Qbw",
        "outputId": "6691c095-98b0-409c-d7f1-5bf5358b3211"
      },
      "execution_count": null,
      "outputs": [
        {
          "output_type": "stream",
          "name": "stdout",
          "text": [
            "(623, 9) (623,)\n",
            "(617, 9) (617,)\n",
            "MAE: 0.313\n"
          ]
        }
      ]
    },
    {
      "cell_type": "markdown",
      "source": [
        "Cuadro comparativo MAE de los modelos\n",
        "\n",
        "![image.png](data:image/png;base64,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)\n",
        "\n",
        "---\n",
        "\n",
        "\n",
        "Elegiremos el Isolation Forest ya que arrojó el mejor performance (MAE) ademas de la menor cantidad de outliers con menor impacto en la integridad de los datos."
      ],
      "metadata": {
        "id": "wwLv-RImcLt3"
      }
    },
    {
      "cell_type": "code",
      "source": [
        "# Eliminamos los valores atipicos detectados en el Dataset por el modelo, para obtener un nuevo conjunto de datos sin outliers\n",
        "\n",
        "iso = IsolationForest(contamination=0.05) # contamination = proporcion de outliers esperada\n",
        "yhat = iso.fit_predict(df)\n",
        "\n",
        "# seleccionar todas las filas que no son outliers\n",
        "mask = yhat != -1 # filtro\n",
        "df_no_outliers = df[mask]\n",
        "df_no_outliers = df_no_outliers.reset_index(drop=True)\n",
        "\n",
        "# dataset resultante tamaño\n",
        "print(df_no_outliers.shape)"
      ],
      "metadata": {
        "id": "2z0GGolBuThP",
        "colab": {
          "base_uri": "https://localhost:8080/"
        },
        "outputId": "187bb2ae-cabd-4485-bbf6-b39ed0ade5bd"
      },
      "execution_count": null,
      "outputs": [
        {
          "output_type": "stream",
          "name": "stdout",
          "text": [
            "(846, 10)\n"
          ]
        }
      ]
    },
    {
      "cell_type": "markdown",
      "source": [
        "Probaremos nuevamente el preformance de los modelos con el set de datos sin outliers **df_no_outliers**"
      ],
      "metadata": {
        "id": "88GthIsqUVdK"
      }
    },
    {
      "cell_type": "markdown",
      "source": [
        "## Evaluacion de los modelos con datos sin outliers"
      ],
      "metadata": {
        "id": "vKQvFyMlJxtP"
      }
    },
    {
      "cell_type": "markdown",
      "source": [
        "Random Forest"
      ],
      "metadata": {
        "id": "6Tl45DEC1Soh"
      }
    },
    {
      "cell_type": "code",
      "source": [
        "# Define las características (X) y la variable objetivo (y)\n",
        "X = df_no_outliers.drop('Survived', axis=1)\n",
        "y = df_no_outliers['Survived']\n",
        "\n",
        "# Dividir los datos en conjuntos de entrenamiento y prueba\n",
        "X_train, X_test, y_train, y_test = train_test_split(X, y, test_size=0.33, random_state=5)\n",
        "\n",
        "# Entrenar un modelo de Random Forest\n",
        "rf_model = RandomForestClassifier(max_depth=4, random_state=5)\n",
        "rf_model.fit(X_train, y_train)\n",
        "\n",
        "# Hacer predicciones\n",
        "y_pred = rf_model.predict(X_test)\n",
        "\n",
        "# Evaluar el modelo\n",
        "accuracy = accuracy_score(y_test, y_pred)\n",
        "print(f\"Accuracy del modelo RF: {accuracy:}\")\n",
        "\n",
        "print(classification_report(y_test, y_pred))\n",
        "\n",
        "# Obtener las probabilidades predichas para la clase positiva\n",
        "y_probs = rf_model.predict_proba(X_test)[:, 1]\n",
        "\n",
        "# Calcular el puntaje AUC\n",
        "auc_score = roc_auc_score(y_test, y_probs)\n",
        "\n",
        "# Imprimir el puntaje AUC\n",
        "print(f\"Puntaje AUC: {auc_score}\")"
      ],
      "metadata": {
        "colab": {
          "base_uri": "https://localhost:8080/"
        },
        "id": "nON5o3CNUfjL",
        "outputId": "00f2c4c3-43e3-452e-8266-74e274bc7d93"
      },
      "execution_count": null,
      "outputs": [
        {
          "output_type": "stream",
          "name": "stdout",
          "text": [
            "Accuracy del modelo RF: 0.8071428571428572\n",
            "              precision    recall  f1-score   support\n",
            "\n",
            "           0       0.80      0.91      0.85       170\n",
            "           1       0.83      0.65      0.72       110\n",
            "\n",
            "    accuracy                           0.81       280\n",
            "   macro avg       0.81      0.78      0.79       280\n",
            "weighted avg       0.81      0.81      0.80       280\n",
            "\n",
            "Puntaje AUC: 0.8655614973262034\n"
          ]
        }
      ]
    },
    {
      "cell_type": "markdown",
      "source": [
        "KN Neighbors Classifier"
      ],
      "metadata": {
        "id": "445A-WNZ1vuw"
      }
    },
    {
      "cell_type": "code",
      "source": [
        "# Define las columnas de características (X) y la columna objetivo (y)\n",
        "X = df_no_outliers.drop('Survived', axis=1)\n",
        "y = df_no_outliers['Survived']\n",
        "\n",
        "# Divide los datos en conjuntos de entrenamiento y prueba\n",
        "X_train, X_test, y_train, y_test = train_test_split(X, y, test_size=0.33, random_state=42)  # Ajusta test_size y random_state según sea necesario\n",
        "\n",
        "# Crea un clasificador KNN con k=5 (puedes ajustar k)\n",
        "knn = KNeighborsClassifier(n_neighbors=5)\n",
        "\n",
        "# Entrena el modelo con los datos de entrenamiento\n",
        "knn.fit(X_train, y_train)\n",
        "\n",
        "# Realiza predicciones en el conjunto de prueba\n",
        "y_pred = knn.predict(X_test)\n",
        "\n",
        "# Calcula la precisión (accuracy)\n",
        "accuracy = accuracy_score(y_test, y_pred)\n",
        "print(f\"Accuracy del modelo KNN: {accuracy}\")\n",
        "\n",
        "print(classification_report(y_test, y_pred))\n",
        "\n",
        "# Predecir las probabilidades para la clase positiva\n",
        "y_probs = knn.predict_proba(X_test)[:, 1]\n",
        "\n",
        "# Calcular el AUC\n",
        "auc_score = roc_auc_score(y_test, y_probs)\n",
        "\n",
        "# Imprimir el AUC\n",
        "print(f\"Puntaje AUC del modelo KNN: {auc_score}\")"
      ],
      "metadata": {
        "colab": {
          "base_uri": "https://localhost:8080/"
        },
        "id": "yBNSAb1WVIB3",
        "outputId": "1b7b6589-bceb-45d4-8f4f-67dd054369dc"
      },
      "execution_count": null,
      "outputs": [
        {
          "output_type": "stream",
          "name": "stdout",
          "text": [
            "Accuracy del modelo KNN: 0.6964285714285714\n",
            "              precision    recall  f1-score   support\n",
            "\n",
            "           0       0.78      0.75      0.77       186\n",
            "           1       0.54      0.59      0.56        94\n",
            "\n",
            "    accuracy                           0.70       280\n",
            "   macro avg       0.66      0.67      0.67       280\n",
            "weighted avg       0.70      0.70      0.70       280\n",
            "\n",
            "Puntaje AUC del modelo KNN: 0.7516014641958362\n"
          ]
        }
      ]
    },
    {
      "cell_type": "markdown",
      "source": [
        "Regresión Logistica"
      ],
      "metadata": {
        "id": "7192rDo11-dh"
      }
    },
    {
      "cell_type": "code",
      "source": [
        "# Define las características (X) y la variable objetivo (y)\n",
        "X = df_no_outliers.drop('Survived', axis=1)\n",
        "y = df_no_outliers['Survived']\n",
        "\n",
        "# Divide los datos en conjuntos de entrenamiento y prueba\n",
        "X_train, X_test, y_train, y_test = train_test_split(X, y, test_size=0.33, random_state=42)\n",
        "\n",
        "# Crea un modelo de regresión logística\n",
        "model = LogisticRegression(random_state=42)\n",
        "\n",
        "# Entrena el modelo con los datos de entrenamiento\n",
        "model.fit(X_train, y_train)\n",
        "\n",
        "# Realiza predicciones en el conjunto de prueba\n",
        "y_pred = model.predict(X_test)\n",
        "\n",
        "# Calcula la precisión (accuracy)\n",
        "accuracy = accuracy_score(y_test, y_pred)\n",
        "print(f\"Precisión (Accuracy) del modelo: {accuracy}\")\n",
        "\n",
        "print(classification_report(y_test, y_pred))\n",
        "\n",
        "# Obtener las probabilidades predichas para la clase positiva\n",
        "y_probs = model.predict_proba(X_test)[:, 1]\n",
        "\n",
        "# Calcular el puntaje AUC\n",
        "auc_score = roc_auc_score(y_test, y_probs)\n",
        "\n",
        "# Imprimir el puntaje AUC\n",
        "print(f\"Puntaje AUC Modelo RL: {auc_score}\")"
      ],
      "metadata": {
        "colab": {
          "base_uri": "https://localhost:8080/"
        },
        "id": "jugKeu5rVYcC",
        "outputId": "e8630ef5-0b41-40d7-f453-4a848532d1f8"
      },
      "execution_count": null,
      "outputs": [
        {
          "output_type": "stream",
          "name": "stdout",
          "text": [
            "Precisión (Accuracy) del modelo: 0.7785714285714286\n",
            "              precision    recall  f1-score   support\n",
            "\n",
            "           0       0.87      0.78      0.82       186\n",
            "           1       0.64      0.77      0.70        94\n",
            "\n",
            "    accuracy                           0.78       280\n",
            "   macro avg       0.76      0.78      0.76       280\n",
            "weighted avg       0.79      0.78      0.78       280\n",
            "\n",
            "Puntaje AUC Modelo RL: 0.8629032258064516\n"
          ]
        }
      ]
    },
    {
      "cell_type": "markdown",
      "source": [
        "Cuadro comparativo de la metrica AUC\n",
        "\n",
        "![image.png](data:image/png;base64,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)\n",
        "\n",
        "Al comparar la AUC de cada modelo con los entrenados con el set de datos sin outliers observamos que su performance disminuyo para cada modelo con respecto a al desempeño del modelo con el set de datos completo (Modelo inicial).\n",
        "De tal forma que decidimos trabajar el modelo de clasificacion sin la aplicación de algoritmos de deteccion de outliers."
      ],
      "metadata": {
        "id": "kVgbcbf4KEqp"
      }
    },
    {
      "cell_type": "markdown",
      "source": [
        "## Reduccion de la dimensionalidad"
      ],
      "metadata": {
        "id": "plBxGWCYzVG5"
      }
    },
    {
      "cell_type": "code",
      "source": [
        "# Creamos matriz de correlación para vusualizar si podemos hacer reducción de la dimensionalidad.\n",
        "import seaborn as sns\n",
        "import matplotlib.pyplot as plt\n",
        "\n",
        "# Selección de variables predictoras ordinales\n",
        "ord_features = ['Age', 'Fare', 'Pclass', 'Relatives']\n",
        "\n",
        "# Crear matriz de correlación\n",
        "correlation_matrix = df[ord_features].corr()\n",
        "\n",
        "# Visualizar la matriz de correlación\n",
        "plt.figure(figsize=(8, 6))\n",
        "sns.heatmap(correlation_matrix, annot=True, cmap='coolwarm', fmt=\".2f\", linewidths=0.5)\n",
        "plt.title('Matriz de correlación entre variables numéricas ordinales')\n",
        "plt.show()"
      ],
      "metadata": {
        "colab": {
          "base_uri": "https://localhost:8080/",
          "height": 545
        },
        "id": "DzlfUMQwIbAR",
        "outputId": "4a1c2711-0c83-489a-de38-aaf001c7942e"
      },
      "execution_count": null,
      "outputs": [
        {
          "output_type": "display_data",
          "data": {
            "text/plain": [
              "<Figure size 800x600 with 2 Axes>"
            ],
            "image/png": "[encoded data removed]"
          },
          "metadata": {}
        }
      ]
    },
    {
      "cell_type": "markdown",
      "source": [
        "La matriz de correlación nos confirma una correlacion alta entre las variables Pclass y Fare.\n",
        "\n",
        "Esta correlación será explicada mediante una tecnica de reduccion de la dimensionalidad PCA y evaluaremos su impacto en el performance del modelo."
      ],
      "metadata": {
        "id": "79qcWczlZQ7_"
      }
    },
    {
      "cell_type": "markdown",
      "source": [
        "Aplicamos PCA"
      ],
      "metadata": {
        "id": "5Xh2NoGIzuSD"
      }
    },
    {
      "cell_type": "code",
      "source": [
        "# Importamos librerias\n",
        "from sklearn.decomposition import PCA\n",
        "from sklearn.preprocessing import StandardScaler\n",
        "import pandas as pd\n",
        "import matplotlib.pyplot as plt\n",
        "\n",
        "# Seleccionar las variables del modelo\n",
        "variables = ['Fare', 'Pclass']\n",
        "df_num = df[variables]\n",
        "\n",
        "# Escalar las variables\n",
        "scaler = StandardScaler()\n",
        "df_scaled = scaler.fit_transform(df_num)\n",
        "\n",
        "# Aplicar PCA\n",
        "pca = PCA()\n",
        "pca_components = pca.fit_transform(df_scaled)\n",
        "\n",
        "# Proporción de varianza explicada\n",
        "explained_variance = pca.explained_variance_ratio_\n",
        "\n",
        "# Screen Plot\n",
        "plt.figure(figsize=(8, 5))\n",
        "plt.plot(range(1, len(explained_variance)+1), explained_variance, marker='o', linestyle='--')\n",
        "plt.title('Screen Plot (PCA)')\n",
        "plt.xlabel('Número de componentes principales')\n",
        "plt.ylabel('Proporción de varianza explicada')\n",
        "plt.axhline(y=0.1, color='r', linestyle='--', label=\"Eigenvalue = 1\")\n",
        "plt.legend()\n",
        "plt.show()\n",
        "\n",
        "# Varianza explicada para cada componente\n",
        "explained_variance = pca.explained_variance_ratio_\n",
        "print(\"Varianza explicada por cada componente:\")\n",
        "print(explained_variance)\n",
        "\n",
        "# Varianza acumulada\n",
        "varianza_acumulada = explained_variance.cumsum()\n",
        "print(\"Varianza explicada acumulada:\")\n",
        "print(varianza_acumulada)\n",
        "\n",
        "\n",
        "# Cargas de los componentes principales\n",
        "cargas = pd.DataFrame(pca.components_.T, columns=[f\"PC{i+1}\" for i in range(len(explained_variance))], index=variables)\n",
        "print(\"\\nCargas de los componentes principales:\")\n",
        "print(cargas)"
      ],
      "metadata": {
        "colab": {
          "base_uri": "https://localhost:8080/",
          "height": 652
        },
        "id": "ZYnXzoP8yx7s",
        "outputId": "764a496a-7ea0-4d5f-8a09-c681589aec29"
      },
      "execution_count": null,
      "outputs": [
        {
          "output_type": "display_data",
          "data": {
            "text/plain": [
              "<Figure size 800x500 with 1 Axes>"
            ],
            "image/png": "[encoded data removed]"
          },
          "metadata": {}
        },
        {
          "output_type": "stream",
          "name": "stdout",
          "text": [
            "Varianza explicada por cada componente:\n",
            "[0.77474981 0.22525019]\n",
            "Varianza explicada acumulada:\n",
            "[0.77474981 1.        ]\n",
            "\n",
            "Cargas de los componentes principales:\n",
            "             PC1       PC2\n",
            "Fare   -0.707107  0.707107\n",
            "Pclass  0.707107  0.707107\n"
          ]
        }
      ]
    },
    {
      "cell_type": "markdown",
      "source": [
        "El 77% de la varianza de las variables analizadas es explcada por el primer componente principal (PCA)."
      ],
      "metadata": {
        "id": "AHvXYzHt5TDX"
      }
    },
    {
      "cell_type": "code",
      "source": [
        "# Usaremos un solo componente para entrenar los diferentes modelos y evaluar su perfomance\n",
        "components = pd.DataFrame(pca_components[:, :2], columns=['PC1', 'PC2'])\n",
        "df_pca = pd.concat([df, components], axis=1)\n",
        "df_pca = df_pca.drop(['PC2'], axis=1)\n",
        "df_pca = df_pca.drop(variables, axis=1)"
      ],
      "metadata": {
        "id": "_4vlE49h1ZPu"
      },
      "execution_count": null,
      "outputs": []
    },
    {
      "cell_type": "markdown",
      "source": [
        "## Evaluacion de los Modelos con reduccion de dimensionalidad (PCA)"
      ],
      "metadata": {
        "id": "xagVPqlcYWUX"
      }
    },
    {
      "cell_type": "markdown",
      "source": [
        "Random Forest con PCA"
      ],
      "metadata": {
        "id": "jdzXsQR1cOgK"
      }
    },
    {
      "cell_type": "code",
      "source": [
        "# Define las características (X) y la variable objetivo (y)\n",
        "X = df_pca.drop('Survived', axis=1)\n",
        "y = df_pca['Survived']\n",
        "\n",
        "# Dividir los datos en conjuntos de entrenamiento y prueba\n",
        "X_train, X_test, y_train, y_test = train_test_split(X, y, test_size=0.33, random_state=5)\n",
        "\n",
        "# Entrenar un modelo de Random Forest\n",
        "rf_model = RandomForestClassifier(max_depth=4, random_state=5)\n",
        "rf_model.fit(X_train, y_train)\n",
        "\n",
        "# Hacer predicciones\n",
        "y_pred = rf_model.predict(X_test)\n",
        "\n",
        "# Evaluar el modelo\n",
        "accuracy = accuracy_score(y_test, y_pred)\n",
        "print(f\"Accuracy del modelo RF con PCA: {accuracy:}\")\n",
        "\n",
        "print(classification_report(y_test, y_pred))\n",
        "\n",
        "# Obtener las probabilidades predichas para la clase positiva\n",
        "y_probs = rf_model.predict_proba(X_test)[:, 1]\n",
        "\n",
        "# Calcular el puntaje AUC\n",
        "auc_score = roc_auc_score(y_test, y_probs)\n",
        "\n",
        "# Imprimir el puntaje AUC\n",
        "print(f\"Puntaje AUC del modelo RF con PCA: {auc_score}\")"
      ],
      "metadata": {
        "colab": {
          "base_uri": "https://localhost:8080/"
        },
        "id": "K9Qmmv_N7g87",
        "outputId": "9a553d33-acbf-4a1e-8fd0-836fe69b31b2"
      },
      "execution_count": null,
      "outputs": [
        {
          "output_type": "stream",
          "name": "stdout",
          "text": [
            "Accuracy del modelo RF con PCA: 0.8271186440677966\n",
            "              precision    recall  f1-score   support\n",
            "\n",
            "           0       0.83      0.92      0.87       187\n",
            "           1       0.83      0.67      0.74       108\n",
            "\n",
            "    accuracy                           0.83       295\n",
            "   macro avg       0.83      0.79      0.80       295\n",
            "weighted avg       0.83      0.83      0.82       295\n",
            "\n",
            "Puntaje AUC del modelo RF con PCA: 0.8679936621113092\n"
          ]
        }
      ]
    },
    {
      "cell_type": "markdown",
      "source": [
        "KN Neighbors con PCA"
      ],
      "metadata": {
        "id": "8XBBXTrp8NUq"
      }
    },
    {
      "cell_type": "code",
      "source": [
        "# Define las columnas de características (X) y la columna objetivo (y)\n",
        "X = df_pca.drop('Survived', axis=1)\n",
        "y = df_pca['Survived']\n",
        "\n",
        "# Divide los datos en conjuntos de entrenamiento y prueba\n",
        "X_train, X_test, y_train, y_test = train_test_split(X, y, test_size=0.33, random_state=42)  # Ajusta test_size y random_state según sea necesario\n",
        "\n",
        "# Crea un clasificador KNN con k=5 (puedes ajustar k)\n",
        "knn = KNeighborsClassifier(n_neighbors=5)\n",
        "\n",
        "# Entrena el modelo con los datos de entrenamiento\n",
        "knn.fit(X_train, y_train)\n",
        "\n",
        "# Realiza predicciones en el conjunto de prueba\n",
        "y_pred = knn.predict(X_test)\n",
        "\n",
        "# Calcula la precisión (accuracy)\n",
        "accuracy = accuracy_score(y_test, y_pred)\n",
        "print(f\"Accuracy del modelo KNN con PCA: {accuracy}\")\n",
        "\n",
        "print(classification_report(y_test, y_pred))\n",
        "\n",
        "# Predecir las probabilidades para la clase positiva\n",
        "y_probs = knn.predict_proba(X_test)[:, 1]\n",
        "\n",
        "# Calcular el AUC\n",
        "auc_score = roc_auc_score(y_test, y_probs)\n",
        "\n",
        "# Imprimir el AUC\n",
        "print(f\"Puntaje AUC del modelo KNN con PCA: {auc_score}\")"
      ],
      "metadata": {
        "colab": {
          "base_uri": "https://localhost:8080/"
        },
        "id": "D_CObn4x79ze",
        "outputId": "0e790c4c-b0e6-4a3e-a9b7-e3b863a17fb7"
      },
      "execution_count": null,
      "outputs": [
        {
          "output_type": "stream",
          "name": "stdout",
          "text": [
            "Accuracy del modelo KNN con PCA: 0.7864406779661017\n",
            "              precision    recall  f1-score   support\n",
            "\n",
            "           0       0.78      0.89      0.83       175\n",
            "           1       0.79      0.64      0.71       120\n",
            "\n",
            "    accuracy                           0.79       295\n",
            "   macro avg       0.79      0.76      0.77       295\n",
            "weighted avg       0.79      0.79      0.78       295\n",
            "\n",
            "Puntaje AUC del modelo KNN con PCA: 0.8543095238095237\n"
          ]
        }
      ]
    },
    {
      "cell_type": "markdown",
      "source": [
        "Regresion Logistica con PCA"
      ],
      "metadata": {
        "id": "7iG4X1kT8TS_"
      }
    },
    {
      "cell_type": "code",
      "source": [
        "# Define las características (X) y la variable objetivo (y)\n",
        "X = df_pca.drop('Survived', axis=1)\n",
        "y = df_pca['Survived']\n",
        "\n",
        "# Divide los datos en conjuntos de entrenamiento y prueba\n",
        "X_train, X_test, y_train, y_test = train_test_split(X, y, test_size=0.33, random_state=42)\n",
        "\n",
        "# Crea un modelo de regresión logística\n",
        "model = LogisticRegression(random_state=42)\n",
        "\n",
        "# Entrena el modelo con los datos de entrenamiento\n",
        "model.fit(X_train, y_train)\n",
        "\n",
        "# Realiza predicciones en el conjunto de prueba\n",
        "y_pred = model.predict(X_test)\n",
        "\n",
        "# Calcula la precisión (accuracy)\n",
        "accuracy = accuracy_score(y_test, y_pred)\n",
        "print(f\"Accuracy del modelo RL con PCA: {accuracy}\")\n",
        "\n",
        "print(classification_report(y_test, y_pred))\n",
        "\n",
        "# Obtener las probabilidades predichas para la clase positiva\n",
        "y_probs = model.predict_proba(X_test)[:, 1]\n",
        "\n",
        "# Calcular el puntaje AUC\n",
        "auc_score = roc_auc_score(y_test, y_probs)\n",
        "\n",
        "# Imprimir el puntaje AUC\n",
        "print(f\"Puntaje AUC Modelo RL con PCA: {auc_score}\")"
      ],
      "metadata": {
        "colab": {
          "base_uri": "https://localhost:8080/"
        },
        "id": "wVbEqCQB8VIP",
        "outputId": "a4d8a21d-e7fe-4cc2-c529-2c4faf4b08e7"
      },
      "execution_count": null,
      "outputs": [
        {
          "output_type": "stream",
          "name": "stdout",
          "text": [
            "Accuracy del modelo RL con PCA: 0.8101694915254237\n",
            "              precision    recall  f1-score   support\n",
            "\n",
            "           0       0.81      0.88      0.85       175\n",
            "           1       0.80      0.71      0.75       120\n",
            "\n",
            "    accuracy                           0.81       295\n",
            "   macro avg       0.81      0.79      0.80       295\n",
            "weighted avg       0.81      0.81      0.81       295\n",
            "\n",
            "Puntaje AUC Modelo RL con PCA: 0.8762380952380953\n"
          ]
        }
      ]
    },
    {
      "cell_type": "markdown",
      "source": [
        "Evaluacion del performance de los modelos con PCA\n",
        "\n",
        "![image.png](data:image/png;base64,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)\n",
        "\n",
        "Utilizamos igualmente la metrica AUC de cada modelo para evaluar su desempeño comparando el set de datos original con el set de datos con PCA. Observamos una mejora significativa en el rendimiiento del modelo KNN, no obstante, el modelo Random Forest con el set de Datos original es el que sigue mostrando un mejor desempeño y en consecuencia es el modelo elegido como algoritmo de clasificacion de supervivencia."
      ],
      "metadata": {
        "id": "hSVcU3ufQJsH"
      }
    },
    {
      "cell_type": "markdown",
      "source": [],
      "metadata": {
        "id": "H4nQqp7m8h1a"
      }
    },
    {
      "cell_type": "markdown",
      "source": [
        "## Hypertuning para selección de Hyperparametros para el modelo de clasificacion selecccionado"
      ],
      "metadata": {
        "id": "feCQ28h6Nfy-"
      }
    },
    {
      "cell_type": "code",
      "source": [
        "# Hypertuning del Modelo RandomForest\n",
        "from sklearn.model_selection import RandomizedSearchCV\n",
        "from sklearn.ensemble import RandomForestClassifier\n",
        "\n",
        "# Definir X (características) e y (variable objetivo)\n",
        "X = df.drop('Survived', axis=1)\n",
        "y = df['Survived']\n",
        "\n",
        "params_grid = {\n",
        "        'n_estimators': [100, 200, 300],\n",
        "        'max_depth': [None, 5, 10, 20],\n",
        "        'min_samples_split': [2, 5, 10],\n",
        "        'min_samples_leaf': [1, 2, 4],\n",
        "        'max_features': ['auto', 'sqrt', 'log2'],\n",
        "        'criterion':['entropy','gini']\n",
        "        }\n",
        "\n",
        "grid_cv = RandomizedSearchCV(RandomForestClassifier(), params_grid, scoring=\"accuracy\", n_jobs=-1, cv=3)\n",
        "grid_cv.fit(X_train, y_train)\n",
        "\n",
        "print(\"Mejores parametros modelo RF\", grid_cv.best_params_)\n",
        "print(\"Mejor score de CV\", grid_cv.best_score_)\n",
        "print(f'Accuracy del modelo = {round(accuracy_score(y_test, grid_cv.predict(X_test)), 5)}')"
      ],
      "metadata": {
        "id": "vtyDWoYgZpN9",
        "colab": {
          "base_uri": "https://localhost:8080/"
        },
        "outputId": "cb0b8410-4e18-48a6-9913-8862a90140b9"
      },
      "execution_count": null,
      "outputs": [
        {
          "output_type": "stream",
          "name": "stdout",
          "text": [
            "Mejores parametros modelo RF {'n_estimators': 100, 'min_samples_split': 10, 'min_samples_leaf': 2, 'max_features': 'log2', 'max_depth': 10, 'criterion': 'gini'}\n",
            "Mejor score de CV 0.818816303740927\n",
            "Accuracy del modelo = 0.79661\n"
          ]
        }
      ]
    },
    {
      "cell_type": "code",
      "source": [
        "# Modelo de ml random forest parametrizado\n",
        "\n",
        "from sklearn.ensemble import RandomForestClassifier\n",
        "from sklearn.model_selection import train_test_split\n",
        "from sklearn.metrics import accuracy_score\n",
        "\n",
        "# Definimos las características (X) y la variable objetivo (y)\n",
        "X = df.drop('Survived', axis=1)\n",
        "y = df['Survived']\n",
        "\n",
        "# Dividimos los datos en conjuntos de entrenamiento y prueba\n",
        "X_train, X_test, y_train, y_test = train_test_split(X, y, test_size=0.33, random_state=42)\n",
        "\n",
        "# Intanciamos el modelo con los parametros especificados\n",
        "rf_model = RandomForestClassifier(n_estimators=100,\n",
        "                                  max_depth=10,\n",
        "                                  min_samples_split=10,\n",
        "                                  min_samples_leaf=2,\n",
        "                                  max_features='log2',\n",
        "                                  criterion='gini',\n",
        "                                  random_state=42)\n",
        "rf_model.fit(X_train, y_train)\n",
        "\n",
        "# Make predictions on the test set\n",
        "y_pred = rf_model.predict(X_test)\n",
        "\n",
        "# Evaluar el modelo\n",
        "accuracy = accuracy_score(y_test, y_pred)\n",
        "print(f\"Accuracy del modelo elegido: {accuracy:}\")\n",
        "print(\"\\nReporte de clasificación modelo elegido:\")\n",
        "print(classification_report(y_test, y_pred))"
      ],
      "metadata": {
        "colab": {
          "base_uri": "https://localhost:8080/"
        },
        "id": "yGG66nZFDaMG",
        "outputId": "4b1595dc-2e93-4a4f-f62a-680113345e85"
      },
      "execution_count": null,
      "outputs": [
        {
          "output_type": "stream",
          "name": "stdout",
          "text": [
            "Accuracy del modelo elegido: 0.8067796610169492\n",
            "\n",
            "Reporte de clasificación modelo elegido:\n",
            "              precision    recall  f1-score   support\n",
            "\n",
            "           0       0.80      0.89      0.85       175\n",
            "           1       0.81      0.68      0.74       120\n",
            "\n",
            "    accuracy                           0.81       295\n",
            "   macro avg       0.81      0.79      0.79       295\n",
            "weighted avg       0.81      0.81      0.80       295\n",
            "\n"
          ]
        }
      ]
    },
    {
      "cell_type": "markdown",
      "source": [
        "## Performance del modelo seleccionado y Curva ROC - AUC"
      ],
      "metadata": {
        "id": "giSukDdtNwrW"
      }
    },
    {
      "cell_type": "code",
      "source": [
        "# Calcular y plotear la Curva ROC\n",
        "from sklearn.metrics import roc_curve, roc_auc_score\n",
        "import matplotlib.pyplot as plt\n",
        "\n",
        "y_score1 = rf_model.predict_proba(X_test)[:,1]\n",
        "\n",
        "# Calculo de tasas\n",
        "false_positive_rate1, true_positive_rate1, threshold1 = roc_curve(y_test, y_score1)\n",
        "\n",
        "print('roc_auc_score para el Modelo Random Forest: ', roc_auc_score(y_test, y_score1))\n",
        "\n",
        "plt.subplots(1, figsize=(8,6))\n",
        "plt.title('Receiver Operating Characteristic - RF')\n",
        "plt.plot(false_positive_rate1, true_positive_rate1)\n",
        "plt.plot([0, 1], ls=\"--\")\n",
        "plt.plot([0, 0], [1, 0] , c=\".7\"), plt.plot([1, 1] , c=\".7\")\n",
        "plt.ylabel('Tasa de verdaderos positivos')\n",
        "plt.xlabel('Tasa de falsos positivos')\n",
        "plt.show()"
      ],
      "metadata": {
        "colab": {
          "base_uri": "https://localhost:8080/",
          "height": 582
        },
        "id": "kF5Q6ei-D9sJ",
        "outputId": "3123225d-e26c-4461-9db6-f5e697b74ea8"
      },
      "execution_count": null,
      "outputs": [
        {
          "output_type": "stream",
          "name": "stdout",
          "text": [
            "roc_auc_score para el Modelo Random Forest:  0.8820952380952382\n"
          ]
        },
        {
          "output_type": "display_data",
          "data": {
            "text/plain": [
              "<Figure size 800x600 with 1 Axes>"
            ],
            "image/png": "[encoded data removed]"
          },
          "metadata": {}
        }
      ]
    },
    {
      "cell_type": "markdown",
      "source": [
        "## Conclusiones:\n",
        "\n",
        "1.   Random Forest es el modelo con mejor rendimiento medido por la metrica AUC.\n",
        "2.   Se debe ahondar en la interpretación de los diferentes modelos para una selección adecuada de optimizacion de acuerdo a la naturaleza del problema evaluado.\n",
        "3.   Existen oportunidades de mejoras al analisis preliminar aqui planteado.\n",
        "\n"
      ],
      "metadata": {
        "id": "hZDEkf5zfshr"
      }
    }
  ]
}